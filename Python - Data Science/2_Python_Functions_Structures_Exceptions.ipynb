{
  "nbformat": 4,
  "nbformat_minor": 0,
  "metadata": {
    "colab": {
      "provenance": []
    },
    "kernelspec": {
      "name": "python3",
      "display_name": "Python 3"
    },
    "language_info": {
      "name": "python"
    }
  },
  "cells": [
    {
      "cell_type": "markdown",
      "source": [
        "#Importando bibliotecas"
      ],
      "metadata": {
        "id": "wAgiJT47Nyd8"
      }
    },
    {
      "cell_type": "code",
      "execution_count": null,
      "metadata": {
        "colab": {
          "base_uri": "https://localhost:8080/"
        },
        "id": "RASQFszfNbyu",
        "outputId": "a52a8d10-ac2a-4a1d-c207-6e7b1f3737ce"
      },
      "outputs": [
        {
          "output_type": "stream",
          "name": "stdout",
          "text": [
            "Requirement already satisfied: matplotlib==3.7.1 in /usr/local/lib/python3.10/dist-packages (3.7.1)\n",
            "Requirement already satisfied: contourpy>=1.0.1 in /usr/local/lib/python3.10/dist-packages (from matplotlib==3.7.1) (1.3.0)\n",
            "Requirement already satisfied: cycler>=0.10 in /usr/local/lib/python3.10/dist-packages (from matplotlib==3.7.1) (0.12.1)\n",
            "Requirement already satisfied: fonttools>=4.22.0 in /usr/local/lib/python3.10/dist-packages (from matplotlib==3.7.1) (4.54.1)\n",
            "Requirement already satisfied: kiwisolver>=1.0.1 in /usr/local/lib/python3.10/dist-packages (from matplotlib==3.7.1) (1.4.7)\n",
            "Requirement already satisfied: numpy>=1.20 in /usr/local/lib/python3.10/dist-packages (from matplotlib==3.7.1) (1.26.4)\n",
            "Requirement already satisfied: packaging>=20.0 in /usr/local/lib/python3.10/dist-packages (from matplotlib==3.7.1) (24.1)\n",
            "Requirement already satisfied: pillow>=6.2.0 in /usr/local/lib/python3.10/dist-packages (from matplotlib==3.7.1) (10.4.0)\n",
            "Requirement already satisfied: pyparsing>=2.3.1 in /usr/local/lib/python3.10/dist-packages (from matplotlib==3.7.1) (3.2.0)\n",
            "Requirement already satisfied: python-dateutil>=2.7 in /usr/local/lib/python3.10/dist-packages (from matplotlib==3.7.1) (2.8.2)\n",
            "Requirement already satisfied: six>=1.5 in /usr/local/lib/python3.10/dist-packages (from python-dateutil>=2.7->matplotlib==3.7.1) (1.16.0)\n"
          ]
        }
      ],
      "source": [
        "# 1. Escreva um código para instalar a versão 3.7.1 da biblioteca matplotlib.\n",
        "!pip install matplotlib==3.7.1"
      ]
    },
    {
      "cell_type": "code",
      "source": [
        "# 2. Escreva um código para importar a biblioteca numpy com o alias np.\n",
        "import numpy as np"
      ],
      "metadata": {
        "id": "tbJZRV7oOj-b"
      },
      "execution_count": null,
      "outputs": []
    },
    {
      "cell_type": "code",
      "source": [
        "# 3. Crie um programa que leia a seguinte lista de números e escolha um número desta aleatoriamente.\n",
        "# lista = [8, 12, 54, 23, 43, 1, 90, 87, 105, 77]\n",
        "from random import choice\n",
        "lista = [8, 12, 54, 23, 43, 1, 90, 87, 105, 77]\n",
        "choice(lista)"
      ],
      "metadata": {
        "colab": {
          "base_uri": "https://localhost:8080/"
        },
        "id": "X2gFqoGrOrLz",
        "outputId": "2357fbf0-4d61-4d24-c5a1-5d7dbb9808e7"
      },
      "execution_count": null,
      "outputs": [
        {
          "output_type": "execute_result",
          "data": {
            "text/plain": [
              "1"
            ]
          },
          "metadata": {},
          "execution_count": 9
        }
      ]
    },
    {
      "cell_type": "code",
      "source": [
        "# 4. Crie um programa que sorteia, aleatoriamente, um número inteiro positivo menor que 100.\n",
        "from random import randrange\n",
        "randrange(1,100)"
      ],
      "metadata": {
        "colab": {
          "base_uri": "https://localhost:8080/"
        },
        "id": "CDwcW4dbPHxr",
        "outputId": "cf5e9c64-2326-41c8-f4be-57431bcd799c"
      },
      "execution_count": null,
      "outputs": [
        {
          "output_type": "execute_result",
          "data": {
            "text/plain": [
              "13"
            ]
          },
          "metadata": {},
          "execution_count": 38
        }
      ]
    },
    {
      "cell_type": "code",
      "source": [
        "# 5. Crie um programa que solicite à pessoa usuária digitar dois números inteiros e calcular a potência do 1º número elevado ao 2º.\n",
        "from math import pow\n",
        "n1 = int(input(\"Digite a base e o expoente respectivamente: \"))\n",
        "n2 = int(input())\n",
        "pow(n1,n2)"
      ],
      "metadata": {
        "colab": {
          "base_uri": "https://localhost:8080/"
        },
        "id": "_9ezx85tPcwq",
        "outputId": "d9fc7774-ac7e-4ef4-96ec-4f974ad50f09"
      },
      "execution_count": null,
      "outputs": [
        {
          "name": "stdout",
          "output_type": "stream",
          "text": [
            "Digite a base e o expoente respectivamente: 2\n",
            "4\n"
          ]
        },
        {
          "output_type": "execute_result",
          "data": {
            "text/plain": [
              "16.0"
            ]
          },
          "metadata": {},
          "execution_count": 70
        }
      ]
    },
    {
      "cell_type": "code",
      "source": [
        "# 6. Um programa deve ser escrito para sortear uma pessoa seguidora de uma rede social para ganhar um prêmio.\n",
        "# A lista de participantes é numerada e devemos escolher aleatoriamente um número de acordo com a quantidade de participantes.\n",
        "# Peça à pessoa usuária para fornecer o número de participantes do sorteio e devolva para ela o número sorteado.\n",
        "from random import randint\n",
        "qtdParticipantes = int(input(\"Informe o número de participantes do sorteio: \"))\n",
        "if qtdParticipantes > 0:\n",
        "  print(randint(1, qtdParticipantes))\n",
        "else:\n",
        "  print(\"Valor inválido!\")"
      ],
      "metadata": {
        "colab": {
          "base_uri": "https://localhost:8080/"
        },
        "id": "Jjbd4y51Q4Vb",
        "outputId": "63bbb32e-cf8c-4184-b72f-d25d73470194"
      },
      "execution_count": null,
      "outputs": [
        {
          "output_type": "stream",
          "name": "stdout",
          "text": [
            "Informe o número de participantes do sorteio: 2\n",
            "2\n"
          ]
        }
      ]
    },
    {
      "cell_type": "code",
      "source": [
        "# 7. Você recebeu uma demanda para gerar números de token para acessar o aplicativo de uma empresa. O token precisa ser par e variar de 1000 até 9998.\n",
        "# Escreva um código que solicita à pessoa usuária o seu nome e exibe uma mensagem junto a esse token gerado aleatoriamente.\n",
        "\n",
        "# \"Olá, [nome], o seu token de acesso é [token]! Seja bem-vindo(a)!\"\n",
        "from random import randrange\n",
        "nome = input(\"Informe seu nome: \")\n",
        "token = randrange(1000,10000,2)\n",
        "print(f\"Olá,{nome}, o seu token de acesso é {token}! Seja bem-vindo(a)!\")"
      ],
      "metadata": {
        "colab": {
          "base_uri": "https://localhost:8080/"
        },
        "id": "FL-EAuEtSS6L",
        "outputId": "5256f1ec-b36e-4da2-934d-ddcccf6a0903"
      },
      "execution_count": null,
      "outputs": [
        {
          "output_type": "stream",
          "name": "stdout",
          "text": [
            "Informe seu nome: Cabral\n",
            "Olá,Cabral, o seu token de acesso é 7798! Seja bem-vindo(a)!\n"
          ]
        }
      ]
    },
    {
      "cell_type": "code",
      "source": [
        "# 8. Para diversificar e atrair novos(as) clientes, uma lanchonete criou um item misterioso em seu cardápio chamado \"salada de frutas surpresa\".\n",
        "# Neste item, são escolhidas aleatoriamente 3 frutas de uma lista de 12 para compor a salada de frutas da pessoa cliente. Crie o código que faça essa seleção aleatória de acordo com a lista abaixo:\n",
        "\n",
        "# frutas = [\"maçã\", \"banana\", \"uva\", \"pêra\",\n",
        "#           \"manga\", \"coco\", \"melancia\", \"mamão\",\n",
        "#           \"laranja\", \"abacaxi\", \"kiwi\", \"ameixa\"]\n",
        "from random import sample, choices\n",
        "frutas = [\"maçã\", \"banana\", \"uva\", \"pêra\",\n",
        "          \"manga\", \"coco\", \"melancia\", \"mamão\",\n",
        "          \"laranja\", \"abacaxi\", \"kiwi\", \"ameixa\"]\n",
        "\n",
        "frutasSorteadasPorSample = sample(frutas, 3)\n",
        "frutasSorteadasPorChoices = choices(frutas, k=3)\n",
        "print(frutasSorteadasPorSample, frutasSorteadasPorChoices)"
      ],
      "metadata": {
        "colab": {
          "base_uri": "https://localhost:8080/"
        },
        "id": "tvBRhf3NTMNE",
        "outputId": "2af241a1-56d5-423f-95f7-e6023171c6d3"
      },
      "execution_count": null,
      "outputs": [
        {
          "output_type": "stream",
          "name": "stdout",
          "text": [
            "['coco', 'manga', 'mamão'] ['coco', 'kiwi', 'kiwi']\n"
          ]
        }
      ]
    },
    {
      "cell_type": "code",
      "source": [
        "# 9. Você recebeu um desafio de calcular a raiz quadrada de uma lista de números, identificando quais resultaram em um número inteiro. A lista é a seguinte:\n",
        "# numeros = [2, 8, 15, 23, 91, 112, 256]\n",
        "from math import sqrt\n",
        "TemSqrtInteiro = {}\n",
        "numeros = [2, 8, 15, 23, 91, 112, 256]\n",
        "for num in numeros:\n",
        "  raizQuadrada = sqrt(num)\n",
        "  if raizQuadrada % 1 == 0:\n",
        "    TemSqrtInteiro[num] = raizQuadrada\n",
        "print(\"Números e suas respectivas raízes quadradas inteiras:\", TemSqrtInteiro)"
      ],
      "metadata": {
        "colab": {
          "base_uri": "https://localhost:8080/"
        },
        "id": "go3YqP1DZdRW",
        "outputId": "a9c4772a-c5f7-4fac-8c0e-d78b345d300a"
      },
      "execution_count": null,
      "outputs": [
        {
          "output_type": "stream",
          "name": "stdout",
          "text": [
            "Números e suas respectivas raízes quadradas inteiras: {256: 16.0}\n"
          ]
        }
      ]
    },
    {
      "cell_type": "code",
      "source": [
        "# 10. Faça um programa para uma loja que vende grama para jardins. Essa loja trabalha com jardins circulares e o preço do metro quadrado da grama é de R$ 25,00.\n",
        "# Peça à pessoa usuária o raio da área circular e devolva o valor em reais do quanto precisará pagar.\n",
        "from math import pi\n",
        "raioJardim = int(input(\"Informe o raio do jardim: \"))\n",
        "areaJardim = pi * pow(raioJardim,2)\n",
        "valor = areaJardim * 25\n",
        "print(round(valor,2))"
      ],
      "metadata": {
        "colab": {
          "base_uri": "https://localhost:8080/"
        },
        "id": "8ixJYADRcTRb",
        "outputId": "01d7247f-7b60-4c77-9289-256c80fdb722"
      },
      "execution_count": null,
      "outputs": [
        {
          "output_type": "stream",
          "name": "stdout",
          "text": [
            "Informe o raio do jardim: 45\n",
            "159043.13\n"
          ]
        }
      ]
    },
    {
      "cell_type": "markdown",
      "source": [
        "#Funções"
      ],
      "metadata": {
        "id": "MD2ymoQx78Wj"
      }
    },
    {
      "cell_type": "code",
      "source": [
        "# 1. Escreva um código que lê a lista abaixo e faça:\n",
        "\n",
        "# lista = [16, 14, 63, 65, 17, 99, 70, 11, 20, 48, 79, 32, 17, 89, 12, 25, 66]\n",
        "\n",
        "# A leitura do tamanho da lista\n",
        "# A leitura do maior e menor valor\n",
        "# A soma dos valores da lista\n",
        "# Ao final exiba uma mensagem dizendo:\n",
        "\n",
        "# \"A lista possui [tam] números em que o maior número é [maior] e o menor número é [menor]. A soma dos valores presentes nela é igual a [soma]\"\n",
        "lista = [16, 14, 63, 65, 17, 99, 70, 11, 20, 48, 79, 32, 17, 89, 12, 25, 66]\n",
        "\n",
        "def checkLista(lista = [0]):\n",
        "  tam = len(lista)\n",
        "  maior = max(lista)\n",
        "  menor = min(lista)\n",
        "  soma = sum(lista)\n",
        "  return tam, maior, menor, soma\n",
        "\n",
        "tam, maior, menor, soma = checkLista(lista)\n",
        "print(f\"A lista possui {tam} números em que o maior número é {maior} e o menor número é {menor}. A soma dos valores presentes nela é igual a {soma}\")"
      ],
      "metadata": {
        "colab": {
          "base_uri": "https://localhost:8080/"
        },
        "id": "2YxBQkaY8AHk",
        "outputId": "08154639-900c-471c-85af-639b1d9a1279"
      },
      "execution_count": null,
      "outputs": [
        {
          "output_type": "stream",
          "name": "stdout",
          "text": [
            "A lista possui 17 números em que o maior número é 99 e o menor número é 11. A soma dos valores presentes nela é igual a 743\n"
          ]
        }
      ]
    },
    {
      "cell_type": "code",
      "source": [
        "# 2. Escreva uma função que gere a tabuada de um número inteiro de 1 a 10, de acordo com a escolha da pessoa usuária. Como exemplo, para o número 7, a tabuada deve ser mostrada no seguinte formato:\n",
        "\n",
        "# Tabuada do 7:\n",
        "# 7 x 0 = 0\n",
        "# 7 x 1 = 7\n",
        "# [...]\n",
        "# 7 x 10 = 70\n",
        "\n",
        "def imprimeTabuada(num):\n",
        "  if 1 <= num <= 10:\n",
        "    print(f'Tabuada do {num}:')\n",
        "    for i in range(1,11):\n",
        "      print(f'{num} x {i} = {num*i}')\n",
        "  else:\n",
        "    print('Valor inválido!')\n",
        "\n",
        "tabuada = imprimeTabuada(int(input('Escolha um inteiro de 1 a 10: ')))\n",
        "tabuada"
      ],
      "metadata": {
        "colab": {
          "base_uri": "https://localhost:8080/"
        },
        "id": "0qkoMWYb9fCS",
        "outputId": "e12330df-61b1-4a95-f5e4-21116bdbf96e"
      },
      "execution_count": null,
      "outputs": [
        {
          "output_type": "stream",
          "name": "stdout",
          "text": [
            "Escolha um inteiro de 1 a 10: 10\n",
            "Tabuada do 10:\n",
            "10 x 1 = 10\n",
            "10 x 2 = 20\n",
            "10 x 3 = 30\n",
            "10 x 4 = 40\n",
            "10 x 5 = 50\n",
            "10 x 6 = 60\n",
            "10 x 7 = 70\n",
            "10 x 8 = 80\n",
            "10 x 9 = 90\n",
            "10 x 10 = 100\n"
          ]
        }
      ]
    },
    {
      "cell_type": "code",
      "source": [
        "# 3. Crie a função que leia a lista abaixo e retorne uma nova lista com os múltiplos de 3:\n",
        "\n",
        "# [97, 80, 94, 88, 80, 1, 16, 53, 62, 32, 24, 99]\n",
        "lista = [97, 80, 94, 88, 80, 1, 16, 53, 62, 32, 24, 99]\n",
        "def multiplosDe3(lista):\n",
        "  multi = []\n",
        "  for n in lista:\n",
        "    if n % 3 == 0:\n",
        "      multi.append(n)\n",
        "  return multi\n",
        "Lista3 = multiplosDe3(lista)\n",
        "print(Lista3)"
      ],
      "metadata": {
        "colab": {
          "base_uri": "https://localhost:8080/"
        },
        "id": "brJXMFn1FcQn",
        "outputId": "fe5bbdd5-850e-4ec6-cd56-eb07a77b3da5"
      },
      "execution_count": null,
      "outputs": [
        {
          "output_type": "stream",
          "name": "stdout",
          "text": [
            "[24, 99]\n"
          ]
        }
      ]
    },
    {
      "cell_type": "code",
      "source": [
        "# 4. Crie uma lista dos quadrados dos números da seguinte lista [1, 2, 3, 4, 5, 6, 7, 8, 9, 10]. Lembre-se de utilizar as funções lambda e map() para calcular o quadrado de cada elemento da lista.\n",
        "lista = [1, 2, 3, 4, 5, 6, 7, 8, 9, 10]\n",
        "quadrados = list(map(lambda x : x*x, lista))\n",
        "quadrados"
      ],
      "metadata": {
        "colab": {
          "base_uri": "https://localhost:8080/"
        },
        "id": "iEMLeoOuGSK3",
        "outputId": "fafe58cd-c7ed-4db1-a260-6502aa7519df"
      },
      "execution_count": null,
      "outputs": [
        {
          "output_type": "execute_result",
          "data": {
            "text/plain": [
              "[1, 4, 9, 16, 25, 36, 49, 64, 81, 100]"
            ]
          },
          "metadata": {},
          "execution_count": 28
        }
      ]
    },
    {
      "cell_type": "code",
      "source": [
        "# 5. Você foi contratado(a) como cientista de dados de uma associação de skate.\n",
        "# Para analisar as notas recebidas de skatistas em algumas competições ao longo do ano, você precisa criar um código que calcula a pontuação dos(as) atletas.\n",
        "# Para isso, o seu código deve receber 5 notas digitadas pelas pessoas juradas.\n",
        "\n",
        "# Para calcular a pontuação de um(a) skatista, você precisa eliminar a maior e a menor pontuação dentre as 5 notas e tirar a média das 3 notas que sobraram. Retorne a média para apresentar o texto:\n",
        "\n",
        "# \"Nota da manobra: [media]\"\n",
        "\n",
        "lista = [1,3,10,5,2]\n",
        "def pontuacao(lista):\n",
        "  lista.remove(min(lista))\n",
        "  lista.remove(max(lista))\n",
        "  media = sum(lista) / len(lista)\n",
        "  return media\n",
        "\n",
        "media = pontuacao(lista)\n",
        "print(f\"Nota da manobra: {media}\")"
      ],
      "metadata": {
        "colab": {
          "base_uri": "https://localhost:8080/"
        },
        "id": "uJHwDaO2G3tI",
        "outputId": "fdab2e47-97bc-4b8d-bc0d-c0fce2ade7a3"
      },
      "execution_count": null,
      "outputs": [
        {
          "output_type": "stream",
          "name": "stdout",
          "text": [
            "Nota da manobra: 3.3333333333333335\n"
          ]
        }
      ]
    },
    {
      "cell_type": "code",
      "source": [
        "# 6. Para atender a uma demanda de uma instituição de ensino para a análise do desempenho de seus(suas) estudantes, você precisa criar uma função que receba uma lista de 4 notas e retorne:\n",
        "\n",
        "# maior nota\n",
        "# menor nota\n",
        "# média\n",
        "# situação (Aprovado(a) ou Reprovado(a))\n",
        "# Para testar o comportamento da função, os dados podem ser exibidos em um texto:\n",
        "\n",
        "# \"O(a) estudante obteve uma média de [media], com a sua maior nota de [maior] pontos e a menor nota de [menor] pontos e foi [situacao]\"\n",
        "\n",
        "def analiseDesempenho(notas = [0,0,0,0]):\n",
        "  maior = max(notas)\n",
        "  menor = min(notas)\n",
        "  media = sum(notas) / len(notas)\n",
        "  if media < 6:\n",
        "    situacao = 'Reprovado'\n",
        "  else:\n",
        "    situacao = 'Aprovado'\n",
        "  return maior, menor, media, situacao\n",
        "\n",
        "notas = [2,4,5,7]\n",
        "maior, menor, media, situacao = analiseDesempenho(notas)\n",
        "print(f\"O(a) estudante obteve uma média de {media}, com a sua maior nota de {maior} pontos e a menor nota de {menor} pontos e foi {situacao}\")"
      ],
      "metadata": {
        "colab": {
          "base_uri": "https://localhost:8080/"
        },
        "id": "q6rP-zB-FqWg",
        "outputId": "302591d9-a0da-4fd2-c0f0-b730ce8480b0"
      },
      "execution_count": null,
      "outputs": [
        {
          "output_type": "stream",
          "name": "stdout",
          "text": [
            "O(a) estudante obteve uma média de 4.5, com a sua maior nota de 7 pontos e a menor nota de 2 pontos e foi Reprovado\n"
          ]
        }
      ]
    },
    {
      "cell_type": "code",
      "source": [
        "# 7. Você recebeu uma demanda para tratar 2 listas com os nomes e sobrenomes de cada estudante concatenando-as para apresentar seus nomes completos na forma Nome Sobrenome. As listas são:\n",
        "\n",
        "# nomes = [\"joão\", \"MaRia\", \"JOSÉ\"]\n",
        "# sobrenomes = [\"SILVA\", \"souza\", \"Tavares\"]\n",
        "\n",
        "# O texto exibido ao fim deve ser parecido com:\n",
        "\n",
        "# \"Nome completo: Ana Silva\"\n",
        "\n",
        "nomes = [\"joão\", \"MaRia\", \"JOSÉ\"]\n",
        "sobrenomes = [\"SILVA\", \"souza\", \"Tavares\"]\n",
        "\n",
        "constroiNome2 = lambda x : x.capitalize()\n",
        "\n",
        "nomes = list(map(constroiNome2, nomes))\n",
        "sobrenomes = list(map(constroiNome2, sobrenomes))\n",
        "nomeCompleto = list(map(lambda x, y : ' '.join([x,y]), nomes, sobrenomes))\n",
        "for nome in nomeCompleto:\n",
        "  print(f'Nome completo: {nome}')"
      ],
      "metadata": {
        "colab": {
          "base_uri": "https://localhost:8080/"
        },
        "id": "Lq8LGcPXHJ4u",
        "outputId": "068173f3-dc0f-4441-dc40-dc9e1126be7c"
      },
      "execution_count": null,
      "outputs": [
        {
          "output_type": "stream",
          "name": "stdout",
          "text": [
            "Nome completo: João Silva\n",
            "Nome completo: Maria Souza\n",
            "Nome completo: José Tavares\n"
          ]
        }
      ]
    },
    {
      "cell_type": "code",
      "source": [
        "# 8. Como cientista de dados em um time de futebol, você precisa implementar novas formas de coleta de dados sobre o desempenho de jogadores e do time como um todo.\n",
        "# Sua primeira ação é criar uma forma de calcular a pontuação do time no campeonato nacional a partir dos dados de gols marcados e sofridos em cada jogo.\n",
        "\n",
        "# Escreva uma função chamada calcula_pontos que recebe como parâmetros duas listas de números inteiros, representando os gols marcados e sofridos pelo time em cada partida do campeonato.\n",
        "# A função deve retornar a pontuação do time e o aproveitamento em percentual, levando em consideração que a vitória vale 3 pontos, o empate vale 1 ponto e a derrota 0 pontos.\n",
        "\n",
        "# Observação: se a quantidade de gols marcados numa partida for maior que a de sofridos, o time venceu. Caso seja igual, o time empatou e se for menor, o time perdeu.\n",
        "# Para calcular o aproveitamento devemos fazer a razão entre a pontuação do time pela pontuação máxima que ele poderia receber.\n",
        "\n",
        "# Para teste, utilize as seguintes listas de gols marcados e sofridos:\n",
        "\n",
        "# gols_marcados = [2, 1, 3, 1, 0]\n",
        "# gols_sofridos = [1, 2, 2, 1, 3]\n",
        "\n",
        "# Provável texto exibido:\n",
        "\n",
        "# \"A pontuação do time foi de [pontos] e seu aproveitamento foi de [aprov]%\"\n",
        "\n",
        "def compara_gols(voce,adversario):\n",
        "  if voce > adversario:\n",
        "    return 3\n",
        "  elif voce == adversario:\n",
        "    return 1\n",
        "  else:\n",
        "    return 0\n",
        "\n",
        "def calcula_pontos(gols_marcados, gols_sofridos):\n",
        "  resultado = lambda x, y : compara_gols(x,y)\n",
        "  pontos = list(map(resultado, gols_marcados, gols_sofridos))\n",
        "  pontuacao = sum(pontos)\n",
        "  aproveitamento = round(100 * pontuacao / (3 * len(pontos)), 2)\n",
        "  return pontuacao, aproveitamento\n",
        "\n",
        "gols_marcados = [2, 1, 3, 1, 0]\n",
        "gols_sofridos = [1, 2, 2, 1, 3]\n",
        "\n",
        "pontos, aprov = calcula_pontos(gols_marcados, gols_sofridos)\n",
        "print(f\"A pontuação do time foi de {pontos} e seu aproveitamento foi de {aprov}%\")"
      ],
      "metadata": {
        "colab": {
          "base_uri": "https://localhost:8080/"
        },
        "id": "D5GTtn6-xt0x",
        "outputId": "b9836864-00b8-481e-b14d-e2d248a65abd"
      },
      "execution_count": null,
      "outputs": [
        {
          "output_type": "stream",
          "name": "stdout",
          "text": [
            "A pontuação do time foi de 7 e seu aproveitamento foi de 46.67%\n"
          ]
        }
      ]
    },
    {
      "cell_type": "code",
      "source": [
        "# 9. Você recebeu o desafio de criar um código que calcula os gastos de uma viagem para um das quatro cidades partindo de Recife, sendo elas: Salvador, Fortaleza, Natal e Aracaju.\n",
        "\n",
        "# O custo da diária do hotel é de 150 reais em todas elas e o consumo de gasolina na viagem de carro é de 14 km/l, sendo que o valor da gasolina é de 5 reais o litro.\n",
        "# O gastos com passeios e alimentação a se fazer em cada uma delas por dia seria de [200, 400, 250, 300], respectivamente.\n",
        "\n",
        "# Sabendo que as distâncias entre Recife e cada uma das cidades é de aproximadamente [850, 800, 300, 550] km, crie três funções nas quais: a 1ª função calcule os gastos com hotel (gasto_hotel),\n",
        "# a 2ª calcule os gastos com a gasolina (gasto_gasolina) e a 3ª os gastos com passeio e alimentação (gasto_passeio).\n",
        "\n",
        "# Para testar, simule uma viagem de 3 dias para Salvador partindo de Recife. Considere a viagem de ida e volta de carro.\n",
        "\n",
        "cidades = ['Salvador', 'Fortaleza', 'Natal', 'Aracaju']\n",
        "gastos_passeios = [200, 400, 250, 300]\n",
        "distancias = [850, 800, 300, 550]\n",
        "\n",
        "def gastosHotel(dias):\n",
        "  return 150*dias\n",
        "\n",
        "def gastosGasolina(cidade):\n",
        "  i = cidades.index(cidade)\n",
        "  gasto_gasolina = round(5*distancias[i]*2 / 14, 2)\n",
        "  return gasto_gasolina\n",
        "\n",
        "def gastosPasseio(cidade, dias):\n",
        "  i = cidades.index(cidade)\n",
        "  gasto_passeio = gastos_passeios[i]*dias\n",
        "  return gasto_passeio\n",
        "\n",
        "dias = 3\n",
        "cidade = 'Salvador'\n",
        "valorTotal = gastosHotel(dias)\n",
        "valorTotal += gastosGasolina(cidade)\n",
        "valorTotal += gastosPasseio(cidade, dias)\n",
        "print(f\"Com base nos gastos definidos, uma viagem de {dias} dias para {cidade} saindo de Recife custaria {round(valorTotal, 2)} reais\")"
      ],
      "metadata": {
        "colab": {
          "base_uri": "https://localhost:8080/"
        },
        "id": "cWaihWcs194Z",
        "outputId": "d8fa4a35-a5cf-4329-d904-c62878db81eb"
      },
      "execution_count": null,
      "outputs": [
        {
          "output_type": "stream",
          "name": "stdout",
          "text": [
            "Com base nos gastos definidos, uma viagem de 3 dias para Salvador saindo de Recife custaria 1657.14 reais\n"
          ]
        }
      ]
    },
    {
      "cell_type": "code",
      "source": [
        "# 10. Você iniciou um estágio em uma empresa que trabalha com processamento de linguagem natural (NLP).\n",
        "# Sua líder requisitou que você criasse um trecho de código que recebe uma frase digitada pela pessoa usuária e filtre apenas as palavras com tamanho maior ou igual a 5, exibindo-as em uma lista.\n",
        "# Essa demanda é voltada para a análise do padrão de comportamento de pessoas na escrita de palavras acima dessa quantidade de caracteres.\n",
        "\n",
        "# Dica: utilize as funções lambda e filter() para filtrar essas palavras. Lembrando que a função embutida filter() recebe uma função (no nosso exemplo uma função lambda) e filtra um iterável de acordo com a função.\n",
        "# Para tratar a frase use replace() para trocar a ',' '.', '!' e '?' por espaço.\n",
        "\n",
        "# Use a frase \"Aprender Python aqui na Alura é muito bom\" para testar o código.\n",
        "frase = \"Aprender Python? aqui, na Alura é muito bom!\"\n",
        "palavras = frase.replace(',', ' ').replace('.', ' ').replace('!', ' ').replace('?', ' ').split()\n",
        "palavrasFiltradas = list(filter(lambda x : len(x) >= 5, palavras))\n",
        "palavrasFiltradas"
      ],
      "metadata": {
        "colab": {
          "base_uri": "https://localhost:8080/"
        },
        "id": "D3Ma1FVz8r-Q",
        "outputId": "69dd5b11-3a4d-4b4f-fdce-0b1fc2a49649"
      },
      "execution_count": null,
      "outputs": [
        {
          "output_type": "execute_result",
          "data": {
            "text/plain": [
              "['Aprender', 'Python', 'Alura', 'muito']"
            ]
          },
          "metadata": {},
          "execution_count": 24
        }
      ]
    },
    {
      "cell_type": "code",
      "source": [
        "help(filter)"
      ],
      "metadata": {
        "colab": {
          "base_uri": "https://localhost:8080/"
        },
        "id": "iT1UnT_u_X14",
        "outputId": "228b33a6-dda6-46d6-ab7b-36145df2747e"
      },
      "execution_count": null,
      "outputs": [
        {
          "output_type": "stream",
          "name": "stdout",
          "text": [
            "Help on class filter in module builtins:\n",
            "\n",
            "class filter(object)\n",
            " |  filter(function or None, iterable) --> filter object\n",
            " |  \n",
            " |  Return an iterator yielding those items of iterable for which function(item)\n",
            " |  is true. If function is None, return the items that are true.\n",
            " |  \n",
            " |  Methods defined here:\n",
            " |  \n",
            " |  __getattribute__(self, name, /)\n",
            " |      Return getattr(self, name).\n",
            " |  \n",
            " |  __iter__(self, /)\n",
            " |      Implement iter(self).\n",
            " |  \n",
            " |  __next__(self, /)\n",
            " |      Implement next(self).\n",
            " |  \n",
            " |  __reduce__(...)\n",
            " |      Return state information for pickling.\n",
            " |  \n",
            " |  ----------------------------------------------------------------------\n",
            " |  Static methods defined here:\n",
            " |  \n",
            " |  __new__(*args, **kwargs) from builtins.type\n",
            " |      Create and return a new object.  See help(type) for accurate signature.\n",
            "\n"
          ]
        }
      ]
    },
    {
      "cell_type": "markdown",
      "source": [
        "#Listas de listas e list comprehension"
      ],
      "metadata": {
        "id": "8diqKqfKZOzj"
      }
    },
    {
      "cell_type": "code",
      "source": [
        "# 1. Crie um código para imprimir a soma dos elementos de cada uma das listas contidas na seguinte lista:\n",
        "\n",
        "lista_de_listas = [[4,6,5,9], [1,0,7,2], [3,4,1,8]]\n",
        "\n",
        "listas_soma = [sum(lista) for lista in lista_de_listas]\n",
        "print(listas_soma)"
      ],
      "metadata": {
        "colab": {
          "base_uri": "https://localhost:8080/"
        },
        "id": "X3NAjFkBZNu5",
        "outputId": "309f8736-7a1b-4d73-ca01-020fda2478ca"
      },
      "execution_count": null,
      "outputs": [
        {
          "output_type": "stream",
          "name": "stdout",
          "text": [
            "[24, 10, 16]\n"
          ]
        }
      ]
    },
    {
      "cell_type": "code",
      "source": [
        "# 2. Crie um código para gerar uma lista que armazena o terceiro elemento de cada tupla contida na seguinte lista de tuplas:\n",
        "lista_de_tuplas = [('Pedro', 1.74, 81), ('Júlia', 1.65, 67), ('Otávio', 1.81, 83)]\n",
        "lista_tupla_3 = [tupla[2] for tupla in lista_de_tuplas]\n",
        "lista_tupla_3"
      ],
      "metadata": {
        "colab": {
          "base_uri": "https://localhost:8080/"
        },
        "id": "hZASbw46ZxLF",
        "outputId": "f26c775c-65b9-49e9-c10d-5cac38c42f3f"
      },
      "execution_count": null,
      "outputs": [
        {
          "output_type": "execute_result",
          "data": {
            "text/plain": [
              "[81, 67, 83]"
            ]
          },
          "metadata": {},
          "execution_count": 3
        }
      ]
    },
    {
      "cell_type": "code",
      "source": [
        "# 3. A partir da lista: lista = ['Pedro', 'Júlia', 'Otávio', 'Eduardo'],\n",
        "# crie um código para gerar uma lista de tuplas em que cada tupla tenha o primeiro elemento como a posição do nome na lista original e o segundo elemento sendo o próprio nome.\n",
        "lista = ['Pedro', 'Júlia', 'Otávio', 'Eduardo']\n",
        "lista_tuplas = [(i,lista[i]) for i in range(len(lista))]\n",
        "lista_tuplas"
      ],
      "metadata": {
        "colab": {
          "base_uri": "https://localhost:8080/"
        },
        "id": "Tx6DwX7saik1",
        "outputId": "2c0212e4-0f29-4fec-fb6e-47b927779057"
      },
      "execution_count": null,
      "outputs": [
        {
          "output_type": "execute_result",
          "data": {
            "text/plain": [
              "[(0, 'Pedro'), (1, 'Júlia'), (2, 'Otávio'), (3, 'Eduardo')]"
            ]
          },
          "metadata": {},
          "execution_count": 4
        }
      ]
    },
    {
      "cell_type": "code",
      "source": [
        "# 4. Crie uma lista usando o list comprehension que armazena somente o valor numérico de cada tupla caso o primeiro elemento seja 'Apartamento', a partir da seguinte lista de tuplas:\n",
        "aluguel = [('Apartamento', 1700), ('Apartamento', 1400), ('Casa', 2150), ('Apartamento', 1900), ('Casa', 1100)]\n",
        "aluguel_apt = [tupla[1] for tupla in aluguel if tupla[0] == 'Apartamento']\n",
        "aluguel_apt"
      ],
      "metadata": {
        "colab": {
          "base_uri": "https://localhost:8080/"
        },
        "id": "8AzYy1v9bOXn",
        "outputId": "bafd43da-b490-496d-af2b-b9bd0a2592b3"
      },
      "execution_count": null,
      "outputs": [
        {
          "output_type": "execute_result",
          "data": {
            "text/plain": [
              "[1700, 1400, 1900]"
            ]
          },
          "metadata": {},
          "execution_count": 5
        }
      ]
    },
    {
      "cell_type": "code",
      "source": [
        "# 5. Crie um dicionário usando o dict comprehension em que as chaves estão na lista meses = ['Jan', 'Fev', 'Mar', 'Abr', 'Mai', 'Jun', 'Jul', 'Ago', 'Set', 'Out', 'Nov', 'Dez']\n",
        "# e os valores estão em despesa = [860, 490, 1010, 780, 900, 630, 590, 770, 620, 560, 840, 360].\n",
        "meses = ['Jan', 'Fev', 'Mar', 'Abr', 'Mai', 'Jun', 'Jul', 'Ago', 'Set', 'Out', 'Nov', 'Dez']\n",
        "despesa = [860, 490, 1010, 780, 900, 630, 590, 770, 620, 560, 840, 360]\n",
        "orcamento_mensal = {mes: gasto for mes, gasto in zip(meses,despesa)}\n",
        "orcamento_mensal"
      ],
      "metadata": {
        "colab": {
          "base_uri": "https://localhost:8080/"
        },
        "id": "aFmtmRTMbxql",
        "outputId": "05c0701b-45e0-485b-8de7-3e2c7d20cb2b"
      },
      "execution_count": null,
      "outputs": [
        {
          "output_type": "execute_result",
          "data": {
            "text/plain": [
              "{'Jan': 860,\n",
              " 'Fev': 490,\n",
              " 'Mar': 1010,\n",
              " 'Abr': 780,\n",
              " 'Mai': 900,\n",
              " 'Jun': 630,\n",
              " 'Jul': 590,\n",
              " 'Ago': 770,\n",
              " 'Set': 620,\n",
              " 'Out': 560,\n",
              " 'Nov': 840,\n",
              " 'Dez': 360}"
            ]
          },
          "metadata": {},
          "execution_count": 6
        }
      ]
    },
    {
      "cell_type": "code",
      "source": [
        "# 6. Uma loja possui um banco de dados com a informação de venda de cada representante e de cada ano e precisa filtrar somente os dados do ano 2022 com venda maior do que 6000.\n",
        "# A loja forneceu uma amostra contendo apenas as colunas com os anos e os valores de venda para que você ajude a realizar a filtragem dos dados a partir de um código:\n",
        "vendas = [('2023', 4093), ('2021', 4320), ('2021', 5959), ('2022', 8883), ('2023', 9859), ('2022', 5141), ('2022', 7688), ('2022', 9544), ('2023', 4794), ('2021', 7178), ('2022', 3030), ('2021', 7471), ('2022', 4226), ('2022', 8190), ('2021', 9680), ('2022', 5616)]\n",
        "# Crie uma lista usando list comprehension para filtrar os valores de 2022 e que sejam maiores que 6000.\n",
        "vendas_filtro = [venda[1] for venda in vendas if venda[0] == '2022' and venda[1] > 6000]\n",
        "vendas_filtro"
      ],
      "metadata": {
        "colab": {
          "base_uri": "https://localhost:8080/"
        },
        "id": "s6Uow8twcb9j",
        "outputId": "98bbcd84-c2ad-488a-9f5c-39953f54ea53"
      },
      "execution_count": null,
      "outputs": [
        {
          "output_type": "execute_result",
          "data": {
            "text/plain": [
              "[8883, 7688, 9544, 8190]"
            ]
          },
          "metadata": {},
          "execution_count": 7
        }
      ]
    },
    {
      "cell_type": "code",
      "source": [
        "# 7. Uma clínica analisa dados de pacientes e armazena o valor numérico da glicose em um banco de dados e gostaria de rotular os dados da seguinte maneira:\n",
        "\n",
        "# Glicose igual ou inferior a 70: 'Hipoglicemia'\n",
        "# Glicose entre 70 a 99: 'Normal'\n",
        "# Glicose entre 100 e 125: 'Alterada'\n",
        "# Glicose superior a 125: 'Diabetes'\n",
        "# A clínica disponibilizou parte dos valores e sua tarefa é criar uma lista de tuplas usando list comprehension contendo o rótulo e o valor da glicemia em cada tupla.\n",
        "glicemia = [129, 82, 60, 97, 101, 65, 62, 167, 87, 53, 58, 92, 66, 120, 109, 62, 86, 96, 103, 88, 155, 52, 89, 73]\n",
        "rotulo = [\"Hipoglicemia\", \"Normal\", \"Alterada\", \"Diabetes\"]\n",
        "registro_glicemia = [(rotulo[0], valor) if valor < 70 else (rotulo[1], valor) if 70 <= valor <= 99 else (rotulo[2], valor) if 100 <= valor <= 125 else (rotulo[3], valor) for valor in glicemia]\n",
        "registro_glicemia"
      ],
      "metadata": {
        "id": "_zL2udcrdhR-",
        "colab": {
          "base_uri": "https://localhost:8080/"
        },
        "outputId": "f36e5905-739e-492d-a42e-a99089ddf7ce"
      },
      "execution_count": null,
      "outputs": [
        {
          "output_type": "execute_result",
          "data": {
            "text/plain": [
              "[('Diabetes', 129),\n",
              " ('Normal', 82),\n",
              " ('Hipoglicemia', 60),\n",
              " ('Normal', 97),\n",
              " ('Alterada', 101),\n",
              " ('Hipoglicemia', 65),\n",
              " ('Hipoglicemia', 62),\n",
              " ('Diabetes', 167),\n",
              " ('Normal', 87),\n",
              " ('Hipoglicemia', 53),\n",
              " ('Hipoglicemia', 58),\n",
              " ('Normal', 92),\n",
              " ('Hipoglicemia', 66),\n",
              " ('Alterada', 120),\n",
              " ('Alterada', 109),\n",
              " ('Hipoglicemia', 62),\n",
              " ('Normal', 86),\n",
              " ('Normal', 96),\n",
              " ('Alterada', 103),\n",
              " ('Normal', 88),\n",
              " ('Diabetes', 155),\n",
              " ('Hipoglicemia', 52),\n",
              " ('Normal', 89),\n",
              " ('Normal', 73)]"
            ]
          },
          "metadata": {},
          "execution_count": 1
        }
      ]
    },
    {
      "cell_type": "code",
      "source": [
        "# 8. Um e-commerce possui as informações de id de venda, quantidade vendida e preço do produto divididos nas seguintes listas:\n",
        "\n",
        "id = [0, 1, 2, 3, 4, 5, 6, 7, 8, 9]\n",
        "quantidade = [15, 12, 1, 15, 2, 11, 2, 12, 2, 4]\n",
        "preco = [93.0, 102.0, 18.0, 41.0, 122.0, 14.0, 71.0, 48.0, 14.0, 144.0]\n",
        "\n",
        "# O e-commerce precisa estruturar esses dados em uma tabela contendo o valor total da venda, que é obtida multiplicando a quantidade pelo preço unitário. Além disso, a tabela precisa conter um cabeçalho indicando as colunas:\n",
        "# 'id', 'quantidade', 'preco' e 'total'.\n",
        "\n",
        "# Crie uma lista de tuplas em que cada tupla tenha id, quantidade, preço e valor total, na qual a primeira tupla é o cabeçalho da tabela.\n",
        "total = [pr*qtd for qtd,pr in zip(quantidade, preco)]\n",
        "eCommerce = [('id','quantidade','preco','total')]\n",
        "eCommerce.extend(list(zip(id,quantidade,preco,total)))\n",
        "print(eCommerce)"
      ],
      "metadata": {
        "colab": {
          "base_uri": "https://localhost:8080/"
        },
        "id": "Nwb0VdV2LTdM",
        "outputId": "23291ff3-ed1e-4195-e552-07ccaa614668"
      },
      "execution_count": null,
      "outputs": [
        {
          "output_type": "stream",
          "name": "stdout",
          "text": [
            "[('id', 'quantidade', 'preco', 'total'), (0, 15, 93.0, 1395.0), (1, 12, 102.0, 1224.0), (2, 1, 18.0, 18.0), (3, 15, 41.0, 615.0), (4, 2, 122.0, 244.0), (5, 11, 14.0, 154.0), (6, 2, 71.0, 142.0), (7, 12, 48.0, 576.0), (8, 2, 14.0, 28.0), (9, 4, 144.0, 576.0)]\n"
          ]
        }
      ]
    },
    {
      "cell_type": "code",
      "source": [
        "# 9. Uma empresa possui filiais espalhadas nos Estados da região Sudeste do Brasil. Em uma das tabelas de cadastro das filiais há uma coluna contendo a informação de qual é o Estado a que pertence:\n",
        "estados = ['SP', 'ES', 'MG', 'MG', 'SP', 'MG', 'ES', 'ES', 'ES', 'SP', 'SP', 'MG', 'ES', 'SP', 'RJ', 'MG', 'RJ', 'SP', 'MG', 'SP', 'ES', 'SP', 'MG']\n",
        "\n",
        "# A empresa sempre está abrindo novas filiais, de modo que a tabela está constantemente recebendo novos registros e o gestor gostaria de possuir a informação atualizada da quantidade de filiais em cada Estado.\n",
        "\n",
        "# A partir da coluna com a informação dos Estados, crie um dicionário usando dict comprehension com a chave sendo o nome de um Estado e o valor sendo a contagem de vezes em que o Estado aparece na lista.\n",
        "filiais = {estado: estados.count(estado) for estado in estados}\n",
        "filiais"
      ],
      "metadata": {
        "colab": {
          "base_uri": "https://localhost:8080/"
        },
        "id": "yPHX3xbhOys1",
        "outputId": "64d77cb3-5c70-4265-fddd-9a8e7f81fd14"
      },
      "execution_count": null,
      "outputs": [
        {
          "output_type": "execute_result",
          "data": {
            "text/plain": [
              "{'SP': 8, 'ES': 6, 'MG': 7, 'RJ': 2}"
            ]
          },
          "metadata": {},
          "execution_count": 10
        }
      ]
    },
    {
      "cell_type": "code",
      "source": [
        "# 10. Nessa mesma tabela de cadastro de filiais, há uma coluna com as informações da quantidade de pessoas colaboradoras e o(a) gestor(a) gostaria de ter um agrupamento da soma dessas pessoas para cada estado.\n",
        "# As informações contidas na tabela são:\n",
        "\n",
        "funcionarios = [('SP', 16), ('ES', 8), ('MG', 9), ('MG', 6), ('SP', 10), ('MG', 4), ('ES',9), ('ES', 7), ('ES', 12), ('SP', 7), ('SP', 11), ('MG',8), ('ES',8), ('SP',9), ('RJ', 13), ('MG', 5), ('RJ', 9), ('SP', 12), ('MG', 10), ('SP', 7), ('ES', 14), ('SP', 10), ('MG', 12)]\n",
        "\n",
        "# A partir da lista de tuplas, crie um dicionário em que as chaves são os nomes dos Estados únicos e os valores são as listas com o número de colaboradores(as) referentes ao Estado.\n",
        "# Crie também um dicionário em que as chaves são os nomes dos Estados e os valores são a soma de colaboradores(as) por Estado.\n",
        "\n",
        "filiais_funcionarios = {funcionarios[i][0]: [tupla[1] for tupla in funcionarios if tupla[0] == funcionarios[i][0]] for i in range(len(funcionarios))}\n",
        "filiais_funcionarios_total = {estado: sum(qtd) for estado, qtd, in filiais_funcionarios.items()}\n",
        "print(filiais_funcionarios, filiais_funcionarios_total)"
      ],
      "metadata": {
        "colab": {
          "base_uri": "https://localhost:8080/"
        },
        "id": "b179uiZYPmA8",
        "outputId": "9c969901-1014-4b4b-fb37-e625ca6d5a54"
      },
      "execution_count": null,
      "outputs": [
        {
          "output_type": "stream",
          "name": "stdout",
          "text": [
            "{'SP': [16, 10, 7, 11, 9, 12, 7, 10], 'ES': [8, 9, 7, 12, 8, 14], 'MG': [9, 6, 4, 8, 5, 10, 12], 'RJ': [13, 9]} {'SP': 82, 'ES': 58, 'MG': 54, 'RJ': 22}\n"
          ]
        }
      ]
    },
    {
      "cell_type": "markdown",
      "source": [
        "#Lidando com Exceções"
      ],
      "metadata": {
        "id": "xL1DQ8rpjMGP"
      }
    },
    {
      "cell_type": "code",
      "source": [
        "# 1. Faça um programa que solicite à pessoa usuária digitar dois números float e calcular a divisão entre esses números. O código deve conter um tratamento de erro,\n",
        "# indicando o tipo de erro que foi gerado caso a divisão não seja possível de realizar.\n",
        "\n",
        "# Teste o programa com o segundo valor numérico do input igual a 0. Também teste utilizando caracteres textuais no input para checar os tipos de erro que ocorrem.\n",
        "try:\n",
        "  num1 = float(input(\"Digite dois números reais: \"))\n",
        "  num2 = float(input(\"Digite dois números reais: \"))\n",
        "  result = num1 / num2\n",
        "except ZeroDivisionError as e:\n",
        "  print(f\"{type(e)}: {e}\")\n",
        "except ValueError as e:\n",
        "  print(f\"{type(e)}: {e}\")\n",
        "else:\n",
        "  print(result)"
      ],
      "metadata": {
        "colab": {
          "base_uri": "https://localhost:8080/"
        },
        "id": "1fzFowq6jTys",
        "outputId": "1ea947be-e021-47c0-e0f7-4016444c0362"
      },
      "execution_count": null,
      "outputs": [
        {
          "output_type": "stream",
          "name": "stdout",
          "text": [
            "Digite dois números reais: \n",
            "<class 'ValueError'>: could not convert string to float: ''\n"
          ]
        }
      ]
    },
    {
      "cell_type": "code",
      "source": [
        "# 2. Faça um programa que solicite à pessoa usuária digitar um texto que será uma chave a ser pesquisada no seguinte dicionário: idades = {'Júlia': 16, 'Carol': 23, 'Alberto': 19, 'Roberta': 17},\n",
        "# armazenando o resultado do valor em uma variável. O código deve conter um tratamento de erro KeyError, imprimindo a informação 'Nome não encontrado', caso ocorra o erro; e imprimir o valor caso não ocorra nenhum.\n",
        "# Teste o programa com um nome presente em uma das chaves do dicionário e com um que não esteja no dicionário para verificar a mensagem de erro.\n",
        "idades = {'Júlia': 16, 'Carol': 23, 'Alberto': 19, 'Roberta': 17}\n",
        "nome = input(\"Digite o nome da pessoa: \")\n",
        "try:\n",
        "  idade = idades[nome]\n",
        "except KeyError as e:\n",
        "  print(\"Nome não encontrado\")\n",
        "else:\n",
        "  print(idade)"
      ],
      "metadata": {
        "colab": {
          "base_uri": "https://localhost:8080/"
        },
        "id": "uJ75cQb7lbr7",
        "outputId": "8b06d79a-11c5-433f-ddd5-794f44bbdb9d"
      },
      "execution_count": null,
      "outputs": [
        {
          "output_type": "stream",
          "name": "stdout",
          "text": [
            "Digite o nome da pessoa: Júlia\n",
            "16\n"
          ]
        }
      ]
    },
    {
      "cell_type": "code",
      "source": [
        "# 3. Crie uma função que recebe uma lista como parâmetro e converta todos os valores da lista para float.\n",
        "# A função deve conter um tratamento de erro indicando o tipo de erro gerado e retornar a lista caso não tenha ocorrido nenhum erro. Por fim, deve ter a cláusula finally para imprimir o texto: 'Fim da execução da função'.\n",
        "lista = [23,4,78,56.3]\n",
        "def floatConversion(lista: list):\n",
        "  try:\n",
        "    for i in range(len(lista)):\n",
        "      lista[i] = float(lista[i])\n",
        "  except ValueError as e:\n",
        "    print(f\"{type(e)}: {e}\")\n",
        "  except TypeError as e:\n",
        "    print(f\"{type(e)}: {e}\")\n",
        "  else:\n",
        "    return lista\n",
        "  finally:\n",
        "    print('Fim da execução da função')\n",
        "print(floatConversion(lista))"
      ],
      "metadata": {
        "colab": {
          "base_uri": "https://localhost:8080/"
        },
        "id": "XJCEXStYmRxY",
        "outputId": "5148bb33-54b2-48b2-e838-4ea666943194"
      },
      "execution_count": null,
      "outputs": [
        {
          "output_type": "stream",
          "name": "stdout",
          "text": [
            "Fim da execução da função\n",
            "[23.0, 4.0, 78.0, 56.3]\n"
          ]
        }
      ]
    },
    {
      "cell_type": "code",
      "source": [
        "# 4. Crie uma função que recebe duas listas como parâmetros e agrupe os elementos um a um das listas, formando uma lista de tuplas de 3 elementos,\n",
        "# no qual o primeiro e segundo elemento da tupla são os valores na posição i das listas e o terceiro elemento é a soma dos valores na posição i das listas.\n",
        "\n",
        "# A função deve conter um tratamento de erro indicando o tipo de erro gerado e retornar como resultado a lista de tuplas. Caso as listas enviadas como parâmetro tenham tamanhos diferentes,\n",
        "# a função deve retornar um IndexError com a frase: 'A quantidade de elementos em cada lista é diferente.' Dados para testar a função:\n",
        "\n",
        "# Valores sem erro:\n",
        "lista1 = [4,6,7,9,10]\n",
        "lista2 = [-4,6,8,7,9]\n",
        "\n",
        "# Listas com tamanhos diferentes:\n",
        "# lista1 = [4,6,7,9,10,4]\n",
        "# lista2 = [-4,6,8,7,9]\n",
        "\n",
        "# Listas com valores incoerentes:\n",
        "# lista1 = [4,6,7,9,'A']\n",
        "# lista2 = [-4,'E',8,7,9]\n",
        "\n",
        "# Listas como inteiros:\n",
        "# lista1 = 20\n",
        "# lista2 = 3\n",
        "\n",
        "def zipping(lista1: list, lista2: list):\n",
        "  try:\n",
        "    if len(lista1) != len(lista2):\n",
        "      raise IndexError('A quantidade de elementos em cada lista é diferente.')\n",
        "    result = list(zip(lista1,lista2, map(lambda x,y: x+y, lista1, lista2)))\n",
        "  except IndexError as e:\n",
        "    print(e)\n",
        "  except TypeError as e:\n",
        "    print(f\"{type(e)}: {e}\")\n",
        "  else:\n",
        "    return result\n",
        "\n",
        "print(zipping(lista1, lista2))"
      ],
      "metadata": {
        "colab": {
          "base_uri": "https://localhost:8080/"
        },
        "id": "y2wNjuk7pd3s",
        "outputId": "80c72297-3b72-43d2-d1d7-aa9fb6c07a69"
      },
      "execution_count": null,
      "outputs": [
        {
          "output_type": "stream",
          "name": "stdout",
          "text": [
            "[(4, -4, 0), (6, 6, 12), (7, 8, 15), (9, 7, 16), (10, 9, 19)]\n"
          ]
        }
      ]
    },
    {
      "cell_type": "code",
      "source": [
        "# 5. Como desafio, você recebeu a tarefa de desenvolver um código que contabiliza as pontuações de estudantes de uma instituição de ensino de acordo com suas respostas num teste.\n",
        "# Este código deve ser testado para um exemplo de 3 estudantes com uma lista de listas em que cada lista possui as respostas de 5 questões objetivas de cada estudante.\n",
        "# Cada questão vale um ponto e as alternativas possíveis são A, B, C ou D.\n",
        "\n",
        "# Caso alguma alternativa em um dos testes não esteja entre as alternativas possíveis, você deve lançar um ValueError com a mensagem \"A alternativa [alternativa] não é uma opção de alternativa válida\".\n",
        "# O cálculo das 3 notas só será realizado mediante as entradas com as alternativas A, B, C ou D em todos os testes. Se não for lançada a exceção, será exibida uma lista com as notas em cada teste.\n",
        "\n",
        "# Os dados para o teste do código são:\n",
        "\n",
        "# Gabarito da prova:\n",
        "gabarito = ['D', 'A', 'B', 'C', 'A']\n",
        "\n",
        "# Abaixo temos 2 listas de listas que você pode usar como teste\n",
        "\n",
        "# Notas sem exceção:\n",
        "# testes = [['D', 'A', 'B', 'C', 'A'], ['C', 'A', 'A', 'C', 'A'], ['D', 'B', 'A', 'C', 'A']]\n",
        "\n",
        "# Notas com exceção:\n",
        "testes= [['D', 'A', 'B', 'C', 'A'], ['C', 'A', 'A', 'E', 'A'], ['D', 'B', 'A', 'C', 'A']]\n",
        "\n",
        "def calculoPontuacao(teste: list):\n",
        "  nota = 0\n",
        "  for resposta,alternativa in zip(gabarito,teste):\n",
        "    if not alternativa in \"ABCD\":\n",
        "      raise ValueError(f\"A alternativa {alternativa} não é uma opção de alternativa válida\")\n",
        "    elif resposta == alternativa:\n",
        "      nota +=1\n",
        "  return nota\n",
        "\n",
        "try:\n",
        "  calculoNota = [calculoPontuacao(teste) for teste in testes]\n",
        "except ValueError as e:\n",
        "  print(e)\n",
        "else:\n",
        "  print(calculoNota)"
      ],
      "metadata": {
        "colab": {
          "base_uri": "https://localhost:8080/"
        },
        "id": "1fgy0XKfh0DN",
        "outputId": "4dedfd84-6d8b-48c7-c80c-05cdfebbf5cd"
      },
      "execution_count": null,
      "outputs": [
        {
          "output_type": "stream",
          "name": "stdout",
          "text": [
            "A alternativa E não é uma opção de alternativa válida\n"
          ]
        }
      ]
    },
    {
      "cell_type": "code",
      "source": [
        "# 6. Você está trabalhando com processamento de linguagem natural (NLP) e, dessa vez, sua líder requisitou que você criasse um trecho de código que recebe uma lista com as palavras separadas de uma frase gerada pelo ChatGPT.\n",
        "\n",
        "# Você precisa criar uma função que avalia cada palavra desse texto e verificar se o tratamento para retirar os símbolos de pontuação (',' '.', '!' e '?') foi realizado.\n",
        "# Caso contrário, será lançada uma exceção do tipo ValueError apontando o 1º caso em que foi detectado o uso de uma pontuação por meio da frase \"O texto apresenta pontuações na palavra \"[palavra]\".\".\n",
        "# Essa demanda é voltada para a análise do padrão de frases geradas pela inteligência artificial.\n",
        "\n",
        "# Os dados para o teste do código são:\n",
        "\n",
        "# Lista tratada:\n",
        "# lista = ['Python', 'é', 'uma', 'linguagem', 'de', 'programação', 'poderosa', 'versátil',\n",
        "#                   'e', 'fácil', 'de', 'aprender', 'utilizada', 'em', 'diversos', 'campos', 'desde',\n",
        "#                   'análise', 'de', 'dados', 'até', 'inteligência', 'artificial']\n",
        "\n",
        "# Lista não tratada:\n",
        "lista = ['Python', 'é', 'uma', 'linguagem', 'de', 'programação', 'poderosa,', 'versátil',\n",
        "                  'e', 'fácil,', 'de', 'aprender', 'utilizada', 'em', 'diversos', 'campos,', 'desde',\n",
        "                  'análise', 'de', 'dados', 'até', 'inteligência', 'artificial!']\n",
        "\n",
        "def procuraPontuacao(lista):\n",
        "  for palavra in lista:\n",
        "    for pontuacao in [',','.','!','?']:\n",
        "      if pontuacao in palavra:\n",
        "        raise ValueError(f\"O texto apresenta pontuações na palavra '{palavra}'.\")\n",
        "\n",
        "try:\n",
        "  procuraPontuacao(lista)\n",
        "except ValueError as e:\n",
        "  print(e)\n",
        "else:\n",
        "  print(\"O tratamento foi realizado corretamente.\")"
      ],
      "metadata": {
        "colab": {
          "base_uri": "https://localhost:8080/"
        },
        "id": "17U8jAOPdNrn",
        "outputId": "db9b6c30-1c19-43e5-bbc5-c3e06aec21ac"
      },
      "execution_count": 2,
      "outputs": [
        {
          "output_type": "stream",
          "name": "stdout",
          "text": [
            "O texto apresenta pontuações na palavra 'poderosa,'.\n"
          ]
        }
      ]
    },
    {
      "cell_type": "code",
      "source": [
        "# 7. Você foi contratado(a) como uma pessoa cientista de dados para auxiliar um laboratório que faz experimentos sobre o comportamento de uma cultura de fungos.\n",
        "# O laboratório precisa avaliar constantemente a razão (divisão) entre os dados de pressão e temperatura do ambiente controlado recolhidos durante a experimentação para definir a melhor condição para os testes.\n",
        "\n",
        "# Para cumprir com a demanda, você precisa criar uma função divide_colunas que recebe os dados das colunas de pressão e temperatura (que vem no formato de listas) e gerar uma nova coluna com o resultado da divisão.\n",
        "# Os parâmetros da função são as duas listas e você deve tratar dentro dela ao menos 2 tipos de exceções:\n",
        "\n",
        "# Verificar se as listas têm o mesmo tamanho (ValueError)\n",
        "# Verificar se existe alguma divisão por zero (ZeroDivisionError)\n",
        "# Para testar a função, vamos realizar a divisão entre duas listas de dados coletados no experimento, com os valores de pressão e temperatura do ambiente controlado.\n",
        "\n",
        "# Como teste, use os seguintes dados:\n",
        "\n",
        "# Dados sem exceção:\n",
        "# pressoes = [100, 120, 140, 160, 180]\n",
        "# temperaturas = [20, 25, 30, 35, 40]\n",
        "\n",
        "# Dados com exceção:\n",
        "# 1) Exceção de ZeroDivisionError\n",
        "\n",
        "# pressoes = [60, 120, 140, 160, 180]\n",
        "# temperaturas = [0, 25, 30, 35, 40]\n",
        "# Copiar código\n",
        "# 2) Exceção de ValueError\n",
        "\n",
        "pressoes = [100, 120, 140, 160]\n",
        "temperaturas = [20, 25, 30, 35, 40]\n",
        "\n",
        "def divide_colunas(pressoes, temperaturas):\n",
        "  if len(pressoes) != len(temperaturas):\n",
        "    raise ValueError(\"Colunas de tamanhos diferentes.\")\n",
        "  razoes = [round(pressao/temperatura,2) for pressao,temperatura in zip(pressoes,temperaturas)]\n",
        "  return razoes\n",
        "\n",
        "try:\n",
        "  razoes = divide_colunas(pressoes, temperaturas)\n",
        "except ValueError as e:\n",
        "  print(e)\n",
        "except ZeroDivisionError as e:\n",
        "  print(f\"{type(e)}: {e}\")\n",
        "else:\n",
        "  print(razoes)"
      ],
      "metadata": {
        "colab": {
          "base_uri": "https://localhost:8080/"
        },
        "id": "gVWAuhs-rTaA",
        "outputId": "3710a7f6-6b6f-4548-b862-e8c4df96cfeb"
      },
      "execution_count": 4,
      "outputs": [
        {
          "output_type": "stream",
          "name": "stdout",
          "text": [
            "Colunas de tamanhos diferentes.\n"
          ]
        }
      ]
    }
  ]
}