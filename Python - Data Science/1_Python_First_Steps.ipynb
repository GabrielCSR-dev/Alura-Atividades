{
  "nbformat": 4,
  "nbformat_minor": 0,
  "metadata": {
    "colab": {
      "provenance": []
    },
    "kernelspec": {
      "name": "python3",
      "display_name": "Python 3"
    },
    "language_info": {
      "name": "python"
    }
  },
  "cells": [
    {
      "cell_type": "code",
      "execution_count": null,
      "metadata": {
        "colab": {
          "base_uri": "https://localhost:8080/"
        },
        "id": "ZWKowMFqUQ5P",
        "outputId": "b0a55bf0-cc20-4ce7-dbcf-37f8899c33eb"
      },
      "outputs": [
        {
          "output_type": "stream",
          "name": "stdout",
          "text": [
            "Digite seu nome: Gabriel Cabral\n",
            "Digite sua idade: 21\n",
            "Olá, Gabriel Cabral, você tem 21 anos.\n"
          ]
        }
      ],
      "source": [
        "\n",
        "nome = input(\"Digite seu nome: \")\n",
        "idade = int(input(\"Digite sua idade: \"))\n",
        "print(f\"Olá, {nome}, você tem {idade} anos.\")"
      ]
    },
    {
      "cell_type": "code",
      "source": [
        "\n",
        "nome = input(\"Digite seu nome: \")\n",
        "idade = int(input(\"Digite sua idade: \"))\n",
        "altura = float(input(\"Digite sua altura: \"))\n",
        "print(f\"Olá, {nome}, você tem {idade} anos e mede {altura} metros!\")"
      ],
      "metadata": {
        "colab": {
          "base_uri": "https://localhost:8080/"
        },
        "id": "H6N8OjzaVEKX",
        "outputId": "3ea81e78-d6a2-4ec3-a2b9-f6f1d0131bc4"
      },
      "execution_count": null,
      "outputs": [
        {
          "output_type": "stream",
          "name": "stdout",
          "text": [
            "Digite seu nome: Gabriel\n",
            "Digite sua idade: 21\n",
            "Digite sua altura: 2.64\n",
            "Olá, Gabriel, você tem 21 anos e mede 2.64 metros!\n"
          ]
        }
      ]
    },
    {
      "cell_type": "code",
      "source": [
        "\n",
        "n1 = int(input(\"Digite 2 valores inteiros: \"))\n",
        "n2 = int(input())\n",
        "soma = n1 + n2\n",
        "print(f\"A soma de {n1} com {n2} é {soma}.\")"
      ],
      "metadata": {
        "colab": {
          "base_uri": "https://localhost:8080/"
        },
        "id": "mCdWXMx6VsH1",
        "outputId": "6de765db-2287-40a5-be25-599508142a19"
      },
      "execution_count": null,
      "outputs": [
        {
          "output_type": "stream",
          "name": "stdout",
          "text": [
            "Digite 2 valores inteiros: 2\n",
            "3\n",
            "A soma de 2 com 3 é 5.\n"
          ]
        }
      ]
    },
    {
      "cell_type": "code",
      "source": [
        "\n",
        "n1 = int(input(\"Digite 2 valores inteiros: \"))\n",
        "n2 = int(input())\n",
        "n3 = int(input())\n",
        "soma = n1 + n2 + n3\n",
        "print(f\"A soma de {n1}, {n2} e {n3} é {soma}.\")"
      ],
      "metadata": {
        "colab": {
          "base_uri": "https://localhost:8080/"
        },
        "id": "3eS55aT0XlPG",
        "outputId": "56d64194-5439-42af-da75-be983761e687"
      },
      "execution_count": null,
      "outputs": [
        {
          "output_type": "stream",
          "name": "stdout",
          "text": [
            "Digite 2 valores inteiros: 2\n",
            "3\n",
            "-7\n",
            "A soma de 2, 3 e -7 é -2.\n"
          ]
        }
      ]
    },
    {
      "cell_type": "code",
      "source": [
        "\n",
        "n1 = int(input(\"Digite 2 valores inteiros: \"))\n",
        "n2 = int(input())\n",
        "subtracao = n1 - n2\n",
        "print(f\"A diferença de {n1} com {n2} é {subtracao}.\")"
      ],
      "metadata": {
        "colab": {
          "base_uri": "https://localhost:8080/"
        },
        "id": "_oM7immcX0m1",
        "outputId": "eb1fc91d-31c4-4ba6-947b-c6c14539710d"
      },
      "execution_count": null,
      "outputs": [
        {
          "output_type": "stream",
          "name": "stdout",
          "text": [
            "Digite 2 valores inteiros: 2\n",
            "4\n",
            "A diferença de 2 com 4 é -2.\n"
          ]
        }
      ]
    },
    {
      "cell_type": "code",
      "source": [
        "\n",
        "n1 = int(input(\"Digite 2 valores inteiros: \"))\n",
        "n2 = int(input())\n",
        "multiplicacao = n1 * n2\n",
        "print(f\"A multiplicacao de {n1} com {n2} é {multiplicacao}.\")"
      ],
      "metadata": {
        "colab": {
          "base_uri": "https://localhost:8080/"
        },
        "id": "18G1u44LYTet",
        "outputId": "a4524bb9-4aa8-4e40-c1c8-f8e53a83897d"
      },
      "execution_count": null,
      "outputs": [
        {
          "output_type": "stream",
          "name": "stdout",
          "text": [
            "Digite 2 valores inteiros: 5\n",
            "0\n",
            "A multiplicacao de 5 com 0 é 0.\n"
          ]
        }
      ]
    },
    {
      "cell_type": "code",
      "source": [
        "\n",
        "n1 = int(input(\"Digite 2 valores inteiros (o segundo não pode ser 0): \"))\n",
        "n2 = int(input())\n",
        "divisao = n1 / n2\n",
        "print(f\"A divisao de {n1} com {n2} é {divisao}.\")"
      ],
      "metadata": {
        "colab": {
          "base_uri": "https://localhost:8080/"
        },
        "id": "nqvdFbCMYdHN",
        "outputId": "0f664c74-cca6-4e8f-dee0-bed58748639e"
      },
      "execution_count": null,
      "outputs": [
        {
          "output_type": "stream",
          "name": "stdout",
          "text": [
            "Digite 2 valores inteiros (o segundo não pode ser 0): 12\n",
            "5\n",
            "A divisao de 12 com 5 é 2.4.\n"
          ]
        }
      ]
    },
    {
      "cell_type": "code",
      "source": [
        "\n",
        "n1 = int(input(\"Digite 2 valores inteiros: \"))\n",
        "n2 = int(input())\n",
        "exponencicao = n1 ** n2\n",
        "print(f\"A potencia de {n1} com {n2} é {exponencicao}.\")"
      ],
      "metadata": {
        "colab": {
          "base_uri": "https://localhost:8080/"
        },
        "id": "BqS9ycx-Y1RH",
        "outputId": "14490acd-40cc-40c6-f8a0-9386df0efe0a"
      },
      "execution_count": null,
      "outputs": [
        {
          "output_type": "stream",
          "name": "stdout",
          "text": [
            "Digite 2 valores inteiros: 8\n",
            "0\n",
            "A potencia de 8 com 0 é 1.\n"
          ]
        }
      ]
    },
    {
      "cell_type": "code",
      "source": [
        "\n",
        "n1 = int(input(\"Digite 2 valores inteiros (o segundo não pode ser 0): \"))\n",
        "n2 = int(input())\n",
        "divisao_int = n1 // n2\n",
        "print(f\"A divisao inteira de {n1} com {n2} é {divisao_int}.\")"
      ],
      "metadata": {
        "colab": {
          "base_uri": "https://localhost:8080/"
        },
        "id": "PAoYCaeRZKyV",
        "outputId": "7dfb0399-6e89-4a34-bbe6-6af996ce6688"
      },
      "execution_count": null,
      "outputs": [
        {
          "output_type": "stream",
          "name": "stdout",
          "text": [
            "Digite 2 valores inteiros (o segundo não pode ser 0): 12\n",
            "5\n",
            "A divisao inteira de 12 com 5 é 2.\n"
          ]
        }
      ]
    },
    {
      "cell_type": "code",
      "source": [
        "n1 = int(input(\"Digite 2 valores inteiros (o segundo não pode ser 0): \"))\n",
        "n2 = int(input())\n",
        "modulo = n1 % n2\n",
        "print(f\"O módulo de {n1} com {n2} é {modulo}.\")"
      ],
      "metadata": {
        "colab": {
          "base_uri": "https://localhost:8080/"
        },
        "id": "NX-PnFMXZegs",
        "outputId": "a0c2e1a8-cb31-4791-b00f-1b1e44a128b1"
      },
      "execution_count": null,
      "outputs": [
        {
          "output_type": "stream",
          "name": "stdout",
          "text": [
            "Digite 2 valores inteiros (o segundo não pode ser 0): 12\n",
            "5\n",
            "O módulo de 12 com 5 é 2.\n"
          ]
        }
      ]
    },
    {
      "cell_type": "code",
      "source": [
        "n1 = float(input(\"Informe as 3 notas do estudante: \"))\n",
        "n2 = float(input())\n",
        "n3 = float(input())\n",
        "media = (n1 + n2 + n3) / 3\n",
        "print(f\"A média do aluno é {media}.\")"
      ],
      "metadata": {
        "colab": {
          "base_uri": "https://localhost:8080/"
        },
        "id": "x1Qy7ujzZuQN",
        "outputId": "786bdafd-049e-43be-d7e7-964c7b6e2b80"
      },
      "execution_count": null,
      "outputs": [
        {
          "output_type": "stream",
          "name": "stdout",
          "text": [
            "Informe as 3 notas do estudante: 3\n",
            "6\n",
            "9\n",
            "A média do aluno é 6.0.\n"
          ]
        }
      ]
    },
    {
      "cell_type": "code",
      "source": [
        "# Crie um código que calcule e imprima a média ponderada dos números 5, 12, 20 e 15 com pesos respectivamente iguais a 1, 2, 3 e 4.\n",
        "media_ponderada = (5*1 + 12*2 + 20*3 + 15*4) / (1 + 2 + 3 + 4)\n",
        "print(f\"Media ponderada = {media_ponderada}\")"
      ],
      "metadata": {
        "colab": {
          "base_uri": "https://localhost:8080/"
        },
        "id": "3OJWCCUxaNpM",
        "outputId": "1985bb9f-eb53-4e41-a40a-e77533f5b509"
      },
      "execution_count": null,
      "outputs": [
        {
          "output_type": "stream",
          "name": "stdout",
          "text": [
            "Media ponderada = 14.9\n"
          ]
        }
      ]
    },
    {
      "cell_type": "code",
      "source": [
        "frase = \"O rato roeu a roupa do rei de Roma\"\n",
        "print(frase)"
      ],
      "metadata": {
        "colab": {
          "base_uri": "https://localhost:8080/"
        },
        "id": "ZEBJnSyTbEKl",
        "outputId": "78a428d3-5c46-48bb-dc9c-344aaebaae92"
      },
      "execution_count": null,
      "outputs": [
        {
          "output_type": "stream",
          "name": "stdout",
          "text": [
            "O rato roeu a roupa do rei de Roma\n"
          ]
        }
      ]
    },
    {
      "cell_type": "code",
      "source": [
        "print(input(\"Escreva uma frase \"))"
      ],
      "metadata": {
        "colab": {
          "base_uri": "https://localhost:8080/"
        },
        "id": "5S3f1gGdYBzO",
        "outputId": "ea406c46-1f83-463e-96e8-0c99a43f017e"
      },
      "execution_count": null,
      "outputs": [
        {
          "output_type": "stream",
          "name": "stdout",
          "text": [
            "Escreva uma frase Batata quente\n",
            "Batata quente\n"
          ]
        }
      ]
    },
    {
      "cell_type": "code",
      "source": [
        "frase = input(\"Escreva uma frase \")\n",
        "print(frase.upper())"
      ],
      "metadata": {
        "colab": {
          "base_uri": "https://localhost:8080/"
        },
        "id": "CVYOb2tjYTzh",
        "outputId": "6ed584bf-a7d0-441f-adf5-1ed7683b882d"
      },
      "execution_count": null,
      "outputs": [
        {
          "output_type": "stream",
          "name": "stdout",
          "text": [
            "Escreva uma frase Batata quente\n",
            "BATATA QUENTE\n"
          ]
        }
      ]
    },
    {
      "cell_type": "code",
      "source": [
        "frase = input(\"Escreva uma frase \")\n",
        "print(frase.lower())"
      ],
      "metadata": {
        "colab": {
          "base_uri": "https://localhost:8080/"
        },
        "id": "mTbX8FNMYiu9",
        "outputId": "9c621828-1450-4256-853b-9425c07e8ef3"
      },
      "execution_count": null,
      "outputs": [
        {
          "output_type": "stream",
          "name": "stdout",
          "text": [
            "Escreva uma frase Gabriel CabraL\n",
            "gabriel cabral\n"
          ]
        }
      ]
    },
    {
      "cell_type": "code",
      "source": [
        "frase = \"      O rato roeu a roupa do rei de Roma  \"\n",
        "print(frase.strip())"
      ],
      "metadata": {
        "colab": {
          "base_uri": "https://localhost:8080/"
        },
        "id": "SYVEFXW3Ytel",
        "outputId": "c8071aee-954d-4d33-e464-f673730f3f2c"
      },
      "execution_count": null,
      "outputs": [
        {
          "output_type": "stream",
          "name": "stdout",
          "text": [
            "O rato roeu a roupa do rei de Roma\n"
          ]
        }
      ]
    },
    {
      "cell_type": "code",
      "source": [
        "frase = input(\"Escreva uma frase \")\n",
        "print(frase.strip().lower())"
      ],
      "metadata": {
        "colab": {
          "base_uri": "https://localhost:8080/"
        },
        "id": "QazRIN5kY7az",
        "outputId": "ea248a89-5ec6-41d1-942a-701be6432276"
      },
      "execution_count": null,
      "outputs": [
        {
          "output_type": "stream",
          "name": "stdout",
          "text": [
            "Escreva uma frase     ASDADADdcgdghhgjgGFD        \n",
            "asdadaddcgdghhgjggfd\n"
          ]
        }
      ]
    },
    {
      "cell_type": "code",
      "source": [
        "frase = input(\"Escreva uma frase \")\n",
        "print(frase.lower().replace(\"e\",\"f\"))"
      ],
      "metadata": {
        "colab": {
          "base_uri": "https://localhost:8080/"
        },
        "id": "PyG-N0IoZR7L",
        "outputId": "4b36e81d-8e68-4796-e1ae-ae0237f1633e"
      },
      "execution_count": null,
      "outputs": [
        {
          "output_type": "stream",
          "name": "stdout",
          "text": [
            "Escreva uma frase Serpente Verde Esmeralda\n",
            "sfrpfntf vfrdf fsmfralda\n"
          ]
        }
      ]
    },
    {
      "cell_type": "code",
      "source": [
        "frase = input(\"Escreva uma frase \")\n",
        "print(frase.lower().replace('a','@'))"
      ],
      "metadata": {
        "colab": {
          "base_uri": "https://localhost:8080/"
        },
        "id": "JCI9zP6YZtcx",
        "outputId": "eeccf02b-3755-4b93-c637-eda2b7eb9577"
      },
      "execution_count": null,
      "outputs": [
        {
          "output_type": "stream",
          "name": "stdout",
          "text": [
            "Escreva uma frase Arara-quara Jararaca\n",
            "@r@r@-qu@r@ j@r@r@c@\n"
          ]
        }
      ]
    },
    {
      "cell_type": "code",
      "source": [
        "frase = input(\"Escreva uma frase \")\n",
        "print(frase.lower().replace('s','$'))"
      ],
      "metadata": {
        "colab": {
          "base_uri": "https://localhost:8080/"
        },
        "id": "NXwLiW9GaCNU",
        "outputId": "16aef7d2-7762-4f6a-fa3d-0333f1de8d23"
      },
      "execution_count": null,
      "outputs": [
        {
          "output_type": "stream",
          "name": "stdout",
          "text": [
            "Escreva uma frase Assassino Sem Sal\n",
            "a$$a$$ino $em $al\n"
          ]
        }
      ]
    },
    {
      "cell_type": "markdown",
      "source": [
        "#Condicionais, operações e operadores"
      ],
      "metadata": {
        "id": "T1Oa14S99zrZ"
      }
    },
    {
      "cell_type": "code",
      "source": [
        "# 1) Escreva um programa que peça à pessoa usuária para fornecer dois números e exibir o número maior.\n",
        "n1 = float(input('Digite dois números: '))\n",
        "n2 = float(input())\n",
        "\n",
        "if n1 >= n2:\n",
        "  print(f\"{n1} é o maior número.\")\n",
        "else:\n",
        "  print(f\"{n2} é o maior número.\")"
      ],
      "metadata": {
        "colab": {
          "base_uri": "https://localhost:8080/"
        },
        "id": "96pYWXZt98T5",
        "outputId": "4b22ad46-a3ac-4236-f00a-d27e8d62ebf1"
      },
      "execution_count": null,
      "outputs": [
        {
          "output_type": "stream",
          "name": "stdout",
          "text": [
            "Digite dois números: 3\n",
            "4.5\n",
            "4.5 é o maior número.\n"
          ]
        }
      ]
    },
    {
      "cell_type": "code",
      "source": [
        "# 2) Escreva um programa que solicite o percentual de crescimento de produção de uma empresa e informe se houve um crescimento (porcentagem positiva) ou decrescimento (porcentagem negativa).\n",
        "crescimento = float(input('Digite o percentual de crescimento da empresa: '))\n",
        "\n",
        "if crescimento > 0:\n",
        "  print(\"O crescimento foi positivo.\")\n",
        "elif crescimento == 0:\n",
        "  print(\"O crescimento foi nulo.\")\n",
        "else:\n",
        "  print(\"O crescimento foi negativo.\")"
      ],
      "metadata": {
        "colab": {
          "base_uri": "https://localhost:8080/"
        },
        "id": "6KS2ZsQP_nhJ",
        "outputId": "09469898-0508-43c7-a65d-5d36d6a76734"
      },
      "execution_count": null,
      "outputs": [
        {
          "output_type": "stream",
          "name": "stdout",
          "text": [
            "Digite o percentual de crescimento da empresa: -70\n",
            "O crescimento foi negativo.\n"
          ]
        }
      ]
    },
    {
      "cell_type": "code",
      "source": [
        "# 3) Escreva um programa que determine se uma letra fornecida pela pessoa usuária é uma vogal ou consoante.\n",
        "letra = input(\"Informe uma letra: \").lower()\n",
        "\n",
        "if letra in \"aeiou\":\n",
        "  print(\"A letra é uma vogal.\")\n",
        "else:\n",
        "  print(\"A letra é uma consoante.\")"
      ],
      "metadata": {
        "colab": {
          "base_uri": "https://localhost:8080/"
        },
        "id": "3zph7wMlAYjb",
        "outputId": "805d8a02-f706-4055-909d-57c166535c91"
      },
      "execution_count": null,
      "outputs": [
        {
          "output_type": "stream",
          "name": "stdout",
          "text": [
            "Informe uma letra: I\n",
            "A letra é uma vogal.\n"
          ]
        }
      ]
    },
    {
      "cell_type": "code",
      "source": [
        "# 4) Escreva um programa que leia valores médios de preços de um modelo de carro por 3 anos consecutivos e exiba o valor mais alto e mais baixo entre esses três anos.\n",
        "preco1 = float(input('Digite os 3 preços médios dos carros: '))\n",
        "preco2 = float(input())\n",
        "preco3 = float(input())\n",
        "\n",
        "if preco1 >= preco2 and preco1 >= preco3:\n",
        "  maior = preco1\n",
        "elif preco2 >= preco1 and preco1 >= preco3:\n",
        "  maior = preco2\n",
        "else:\n",
        "  maior = preco3\n",
        "\n",
        "if preco1 <= preco2 and preco1 <= preco3:\n",
        "  menor = preco1\n",
        "elif preco2 <= preco1 and preco2 <= preco3:\n",
        "  menor = preco2\n",
        "else:\n",
        "  menor = preco3\n",
        "\n",
        "print(f\"Maior: {maior}\\nMenor: {menor}\")"
      ],
      "metadata": {
        "colab": {
          "base_uri": "https://localhost:8080/"
        },
        "id": "p91Sm865CaNR",
        "outputId": "fb43b3b6-880e-4e8f-ae5a-ba434e63715b"
      },
      "execution_count": null,
      "outputs": [
        {
          "output_type": "stream",
          "name": "stdout",
          "text": [
            "Digite os 3 preços médios dos carros: 7\n",
            "9\n",
            "9\n",
            "Maior: 9.0\n",
            "Menor: 7.0\n"
          ]
        }
      ]
    },
    {
      "cell_type": "code",
      "source": [
        "# 5) Escreva um programa que pergunte sobre o preço de três produtos e indique qual é o produto mais barato para comprar.\n",
        "preco1 = float(input('Digite os preços dos 3 produtos: '))\n",
        "preco2 = float(input())\n",
        "preco3 = float(input())\n",
        "\n",
        "if preco1 <= preco2 and preco1 <= preco3:\n",
        "  print(\"O primeiro produto é o mais barato\")\n",
        "elif preco2 <= preco1 and preco2 <= preco3:\n",
        "  print(\"O segundo produto é o mais barato\")\n",
        "else:\n",
        "  print(\"O terceiro produto é o mais barato\")"
      ],
      "metadata": {
        "colab": {
          "base_uri": "https://localhost:8080/"
        },
        "id": "xgpPKwbFEoyg",
        "outputId": "6c791e41-fd84-4ba5-ee66-af5e2ffadf6e"
      },
      "execution_count": null,
      "outputs": [
        {
          "output_type": "stream",
          "name": "stdout",
          "text": [
            "Digite os preços dos 3 produtos: 4\n",
            "2\n",
            "5\n",
            "O segundo produto é o mais barato\n"
          ]
        }
      ]
    },
    {
      "cell_type": "code",
      "source": [
        "# 6) Escreva um programa que leia três números e os exiba em ordem decrescente.\n",
        "n1 = float(input('Digite 3 números: '))\n",
        "n2 = float(input())\n",
        "n3 = float(input())\n",
        "\n",
        "if n1 > n2:\n",
        "  aux = n1\n",
        "  n1 = n2\n",
        "  n2 = aux\n",
        "\n",
        "if n2 > n3:\n",
        "  aux = n2\n",
        "  n2 = n3\n",
        "  n3 = aux\n",
        "\n",
        "if n1 > n2:\n",
        "  aux = n1\n",
        "  n1 = n2\n",
        "  n2 = aux\n",
        "\n",
        "print(f'Ordem crescente: {n1}, {n2}, {n3}')"
      ],
      "metadata": {
        "colab": {
          "base_uri": "https://localhost:8080/"
        },
        "id": "QsU9_xhU5vWv",
        "outputId": "e95d95f9-126d-4cd7-e471-b4c3c7564e75"
      },
      "execution_count": null,
      "outputs": [
        {
          "output_type": "stream",
          "name": "stdout",
          "text": [
            "Digite 3 números: 9\n",
            "1\n",
            "3\n",
            "Ordem crescente: 1.0, 3.0, 9.0\n"
          ]
        }
      ]
    },
    {
      "cell_type": "code",
      "source": [
        "# 7) Escreva um programa que pergunte em qual turno a pessoa usuária estuda (\"manhã\", \"tarde\" ou \"noite\") e exiba a mensagem \"Bom Dia!\", \"Boa Tarde!\", \"Boa Noite!\", ou \"Valor Inválido!\", conforme o caso.\n",
        "turno = input(\"Em qual turno você estuda? \").lower()\n",
        "\n",
        "if turno == \"manhã\":\n",
        "  print('Bom Dia!')\n",
        "elif turno == \"tarde\":\n",
        "  print(\"Boa Tarde!\")\n",
        "elif turno == \"noite\":\n",
        "  print('Boa Noite!')\n",
        "else:\n",
        "  print('Valor Inválido!')"
      ],
      "metadata": {
        "colab": {
          "base_uri": "https://localhost:8080/"
        },
        "id": "QWOwSCopHDrf",
        "outputId": "cfa59a26-3ea1-4f8c-f926-9c59754daee6"
      },
      "execution_count": null,
      "outputs": [
        {
          "output_type": "stream",
          "name": "stdout",
          "text": [
            "Em qual turno você estuda? manha\n",
            "Valor Inválido!\n"
          ]
        }
      ]
    },
    {
      "cell_type": "code",
      "source": [
        "# 8) Escreva um programa que peça um número inteiro à pessoa usuária e determine se ele é par ou ímpar. Dica: Você pode utilizar o operador módulo %.\n",
        "num = int(input(\"Informe um valor inteiro: \"))\n",
        "\n",
        "if num % 2 == 0:\n",
        "  print('O número é par.')\n",
        "else:\n",
        "  print(\"O número é ímpar\")"
      ],
      "metadata": {
        "colab": {
          "base_uri": "https://localhost:8080/"
        },
        "id": "piSUA0KcWz0A",
        "outputId": "65a1e27b-4d01-4f8c-f0f0-811f1f5fe038"
      },
      "execution_count": null,
      "outputs": [
        {
          "output_type": "stream",
          "name": "stdout",
          "text": [
            "Informe um valor inteiro: 0\n",
            "O número é par.\n"
          ]
        }
      ]
    },
    {
      "cell_type": "code",
      "source": [
        "# 9) Escreva um programa que peça um número à pessoa usuária e informe se ele é inteiro ou decimal.\n",
        "n1 = 3.5\n",
        "n2 = 2.99999\n",
        "n2 = int(n2)\n",
        "sub = n1 - n2\n",
        "print(sub)\n",
        "type(sub)"
      ],
      "metadata": {
        "colab": {
          "base_uri": "https://localhost:8080/"
        },
        "id": "ot3Di_u66AnA",
        "outputId": "40ecf0ba-57ec-40d0-9e1a-2f1dcac9270a"
      },
      "execution_count": null,
      "outputs": [
        {
          "output_type": "stream",
          "name": "stdout",
          "text": [
            "1.5\n"
          ]
        },
        {
          "output_type": "execute_result",
          "data": {
            "text/plain": [
              "float"
            ]
          },
          "metadata": {},
          "execution_count": 6
        }
      ]
    },
    {
      "cell_type": "code",
      "source": [
        "# 10) Um programa deve ser escrito para ler dois números e, em seguida, perguntar à pessoa usuária qual operação ele deseja realizar.\n",
        "# O resultado da operação deve incluir informações sobre o número - se é par ou ímpar, positivo ou negativo e inteiro ou decimal.\n",
        "invalido = False\n",
        "n1 = float(input(\"Digite dois números: \"))\n",
        "n2 = float(input())\n",
        "\n",
        "op = input(\"Informe a operação que deseja realizar (+,-,*,/,//,%,**): \")\n",
        "\n",
        "if op == '+':\n",
        "  print(\"teste0\")\n",
        "  resultado = n1 + n2\n",
        "elif op == '-':\n",
        "  print(\"teste1\")\n",
        "  resultado = n1 - n2\n",
        "elif op == '*':\n",
        "  print(\"teste2\")\n",
        "  resultado = n1 * n2\n",
        "elif op == '**':\n",
        "  print(\"teste3\")\n",
        "  resultado = n1 ** n2\n",
        "elif op in ('/', '//', '%') and n2 != 0:\n",
        "  if op == '/':\n",
        "    resultado = n1 / n2\n",
        "  elif op == '//':\n",
        "    resultado = n1 - n2\n",
        "  elif op == '%':\n",
        "    resultado = n1 % n2\n",
        "elif n2 == 0:\n",
        "  print(\"Denominador inválido!\")\n",
        "  invalido = True\n",
        "else:\n",
        "  print(\"Operação Inválida!\")\n",
        "  invalido = True\n",
        "\n",
        "if invalido == False:\n",
        "  print(f'{n1} {op} {n2} = {resultado}')\n",
        "  if resultado % 2 == 0:\n",
        "    print(\"O resultado é par.\")\n",
        "  else:\n",
        "    print(\"O resultado é impar.\")\n",
        "  if resultado > 0:\n",
        "    print(\"O resultado é positivo.\")\n",
        "  elif resultado < 0:\n",
        "    print(\"O resultado é negativo.\")\n",
        "  else:\n",
        "    print(\"O resultado é nulo.\")\n",
        "  if resultado - int(resultado) == 0:\n",
        "    print(\"O resultado é inteiro.\")\n",
        "  else:\n",
        "    print(\"O resultado é decimal.\")"
      ],
      "metadata": {
        "colab": {
          "base_uri": "https://localhost:8080/"
        },
        "id": "HQ7RHoF1XWHK",
        "outputId": "7939dfda-a4ef-4d42-b204-ebd2822d2668"
      },
      "execution_count": null,
      "outputs": [
        {
          "output_type": "stream",
          "name": "stdout",
          "text": [
            "Digite dois números: 7\n",
            "5\n",
            "Informe a operação que deseja realizar (+,-,*,/,//,%,**): *\n",
            "teste2\n",
            "7.0 * 5.0 = 35.0\n",
            "O resultado é impar.\n",
            "O resultado é positivo.\n",
            "O resultado é inteiro.\n"
          ]
        }
      ]
    },
    {
      "cell_type": "code",
      "source": [
        "# 11) Escreva um programa que peça à pessoa usuária três números que representam os lados de um triângulo.\n",
        "# O programa deve informar se os valores podem ser utilizados para formar um triângulo e, caso afirmativo, se ele é equilátero, isósceles ou escaleno. Tenha em mente algumas dicas:\n",
        "\n",
        "# Três lados formam um triângulo quando a soma de quaisquer dois lados for maior que o terceiro;\n",
        "# Triângulo Equilátero: três lados iguais;\n",
        "# Triângulo Isósceles: quaisquer dois lados iguais;\n",
        "# Triângulo Escaleno: três lados diferentes.\n",
        "l1 = float(input(\"Digite três lados para o triângulo: \"))\n",
        "l2 = float(input())\n",
        "l3 = float(input())\n",
        "\n",
        "PodeTriangulo = False\n",
        "\n",
        "if(l1 > 0 and l2 > 0 and l3 > 0):\n",
        "  if(l1 + l2 > l3 and l2 + l3 > l1 and l3 + l1 > l2):\n",
        "    PodeTriangulo = True\n",
        "\n",
        "if(PodeTriangulo == True):\n",
        "  print(\"Triângulo é possível!\")\n",
        "  if(l1 == l2 == l3):\n",
        "    print(\"Equilátero.\")\n",
        "  elif(l1 == l2 or l2 == l3 or l1 == l3):\n",
        "    print(\"Isóceles.\")\n",
        "  else:\n",
        "    print(\"Escaleno\")\n",
        "else:\n",
        "  print(\"Triângulo impossível.\")"
      ],
      "metadata": {
        "colab": {
          "base_uri": "https://localhost:8080/"
        },
        "id": "6a-7PRMt-COo",
        "outputId": "b789dfb2-e707-4740-9838-abdb1e525af8"
      },
      "execution_count": null,
      "outputs": [
        {
          "output_type": "stream",
          "name": "stdout",
          "text": [
            "Digite três lados para o triângulo: 4\n",
            "5\n",
            "9\n",
            "Triângulo impossível.\n"
          ]
        }
      ]
    },
    {
      "cell_type": "code",
      "source": [
        "# 12) Um estabelecimento está vendendo combustíveis com descontos variados. Para o etanol, se a quantidade comprada for até 15 litros, o desconto será de 2% por litro.\n",
        "# Caso contrário, será de 4% por litro. Para o diesel, se a quantidade comprada for até 15 litros, o desconto será de 3% por litro.\n",
        "# Caso contrário, será de 5% por litro. O preço do litro de diesel é R$ 2,00 e o preço do litro de etanol é R$ 1,70.\n",
        "# Escreva um programa que leia a quantidade de litros vendidos e o tipo de combustível (E para etanol e D para diesel) e calcule o valor a ser pago pelo cliente. Tenha em mente algumas dicas:\n",
        "\n",
        "# O do valor do desconto será a multiplicação entre preço do litro, quantidade de litros e o valor do desconto.\n",
        "# O valor a ser pago por um cliente será o resultado da multiplicação do preço do litro pela quantidade de litros menos o valor de desconto resultante do cálculo.\n",
        "invalido = False\n",
        "litros = float(input(\"Informe a quantidade de litros: \"))\n",
        "combustivel = input(\"Informe o tipo do combustível ('D' para Diesel, 'E' para Etanol): \").upper()\n",
        "\n",
        "if combustivel == 'E':\n",
        "  preco_litro = 1.70\n",
        "  if litros < 0:\n",
        "    invalido = True\n",
        "    print('Valor Inválido.')\n",
        "  if litros <= 15:\n",
        "    desconto = 0.02\n",
        "  else:\n",
        "    desconto = 0.04\n",
        "elif combustivel == 'D':\n",
        "  preco_litro = 2.00\n",
        "  if litros < 0:\n",
        "    invalido = True\n",
        "    print('Valor Inválido.')\n",
        "  if litros <= 15:\n",
        "    desconto = 0.03\n",
        "  else:\n",
        "    desconto = 0.05\n",
        "else:\n",
        "  print('Combustível Inválido.')\n",
        "  invalido = True\n",
        "\n",
        "if invalido == False:\n",
        "  preco_total = preco_litro * litros - preco_litro * litros * desconto\n",
        "  print(preco_total)"
      ],
      "metadata": {
        "colab": {
          "base_uri": "https://localhost:8080/"
        },
        "id": "c6P8R8CkzFrN",
        "outputId": "78222d19-d218-47c2-9f73-a6ed903f38f7"
      },
      "execution_count": null,
      "outputs": [
        {
          "output_type": "stream",
          "name": "stdout",
          "text": [
            "Informe a quantidade de litros: -3\n",
            "Informe o tipo do combustível ('D' para Diesel, 'E' para Etanol): d\n",
            "Valor Inválido.\n"
          ]
        }
      ]
    },
    {
      "cell_type": "code",
      "source": [
        "# 13) Em uma empresa de venda de imóveis você precisa criar um código que analise os dados de vendas anuais para ajudar a diretoria na tomada de decisão.\n",
        "# O código precisa coletar os dados de quantidade de venda durante os anos de 2022 e 2023 e fazer um cálculo de variação percentual. A partir do valor da variação, deve ser enviada às seguintes sugestões:\n",
        "\n",
        "# Para variação acima de 20%: bonificação para o time de vendas.\n",
        "# Para variação entre 2% e 20%: pequena bonificação para time de vendas.\n",
        "# Para variação entre 2% e -10%: planejamento de políticas de incentivo às vendas.\n",
        "# Para bonificações abaixo de -10%: corte de gastos.\n",
        "vendas2022 = int(input(\"Informe a quantidade de vendas em 2022: \"))\n",
        "vendas2023 = int(input(\"Informe a quantidade de vendas em 2023: \"))\n",
        "\n",
        "diferenca_percentual = ((vendas2023 - vendas2022) / vendas2022) * 100\n",
        "\n",
        "if diferenca_percentual > 20:\n",
        "  print('bonificação para o time de vendas')\n",
        "elif 2 < diferenca_percentual <= 20:\n",
        "  print('pequena bonificação para time de vendas')\n",
        "elif -10 <= diferenca_percentual <= 2:\n",
        "  print('planejamento de políticas de incentivo às vendas')\n",
        "else:\n",
        "  print('corte de gastos')\n",
        "\n",
        "print(diferenca_percentual)"
      ],
      "metadata": {
        "colab": {
          "base_uri": "https://localhost:8080/"
        },
        "id": "bMiz8Asf21ig",
        "outputId": "0c560423-c3fc-491d-8d20-4955a3dc5da3"
      },
      "execution_count": null,
      "outputs": [
        {
          "output_type": "stream",
          "name": "stdout",
          "text": [
            "Informe a quantidade de vendas em 2022: 1000\n",
            "Informe a quantidade de vendas em 2023: 500\n",
            "corte de gastos\n",
            "-50.0\n"
          ]
        }
      ]
    },
    {
      "cell_type": "code",
      "source": [
        "teste = 3.7 % 1\n",
        "print(teste)"
      ],
      "metadata": {
        "colab": {
          "base_uri": "https://localhost:8080/"
        },
        "id": "l7ig7_Ak75S7",
        "outputId": "73e07b65-4473-4b4e-d96f-9b4769fa95e0"
      },
      "execution_count": null,
      "outputs": [
        {
          "output_type": "stream",
          "name": "stdout",
          "text": [
            "0.7000000000000002\n"
          ]
        }
      ]
    },
    {
      "cell_type": "markdown",
      "source": [
        "# Estruturas de Repetição"
      ],
      "metadata": {
        "id": "gTlF0dv4OXaJ"
      }
    },
    {
      "cell_type": "code",
      "source": [
        "# 1) Escreva um programa que peça dois números inteiros e imprima todos os números inteiros entre eles.\n",
        "Ni = int(input(\"Insira dois valores inteiros: \"))\n",
        "Nf = int(input())\n",
        "\n",
        "if Ni <= Nf:\n",
        "  for num in range(Ni+1,Nf):\n",
        "    print(num)\n",
        "else:\n",
        "  for num in range(Ni-1,Nf,-1):\n",
        "    print(num)"
      ],
      "metadata": {
        "colab": {
          "base_uri": "https://localhost:8080/"
        },
        "id": "fFAAiULqObfI",
        "outputId": "9b565854-4cb0-4b93-982b-68c9373181e4"
      },
      "execution_count": null,
      "outputs": [
        {
          "name": "stdout",
          "output_type": "stream",
          "text": [
            "Insira dois valores inteiros: 6\n",
            "6\n"
          ]
        }
      ]
    },
    {
      "cell_type": "code",
      "source": [
        "# 2) Escreva um programa para calcular quantos dias levará para a colônia de uma bactéria A ultrapassar ou igualar a colônia de uma bactéria B, com base nas taxas de crescimento de 3% e 1,5% respectivamente.\n",
        "# Considere que a colônia A inicia com 4 elementos e a B com 10.\n",
        "\n",
        "Apop, Bpop, Dias = 4, 10, 0\n",
        "\n",
        "while Apop < Bpop:\n",
        "  Apop += Apop*0.03\n",
        "  Bpop += Bpop*0.015\n",
        "  Dias += 1\n",
        "\n",
        "print(Dias)"
      ],
      "metadata": {
        "colab": {
          "base_uri": "https://localhost:8080/"
        },
        "id": "wu4_rLhTPuca",
        "outputId": "f0f01c37-8f7e-49b0-e285-ab385c539144"
      },
      "execution_count": null,
      "outputs": [
        {
          "output_type": "stream",
          "name": "stdout",
          "text": [
            "63\n"
          ]
        }
      ]
    },
    {
      "cell_type": "code",
      "source": [
        "# 3) Para tratar uma quantidade de 15 dados de avaliações de pessoas usuárias de um serviço da empresa, precisamos verificar se as notas são válidas.\n",
        "# Então, escreva um programa que vai receber a nota de 0 a 5 de todos os dados e verificar se é um valor válido.\n",
        "# Caso seja inserido uma nota acima de 5 ou abaixo de 0, repita até que a pessoa usuária insira um valor válido.\n",
        "\n",
        "for pessoa in range(0,15):\n",
        "  invalido = True\n",
        "  while invalido:\n",
        "    nota = float(input(f'Usuário {pessoa+1}, insira uma nota de 0 a 5: '))\n",
        "    if 0 <= nota <= 5:\n",
        "      invalido = False"
      ],
      "metadata": {
        "colab": {
          "base_uri": "https://localhost:8080/"
        },
        "id": "xQlAer1JRKjR",
        "outputId": "0c4c8abd-f284-4afd-f344-9818a28578ea"
      },
      "execution_count": null,
      "outputs": [
        {
          "name": "stdout",
          "output_type": "stream",
          "text": [
            "Usuário 1, insira uma nota de 0 a 5: 3\n",
            "Usuário 2, insira uma nota de 0 a 5: 5\n",
            "Usuário 3, insira uma nota de 0 a 5: 0\n",
            "Usuário 4, insira uma nota de 0 a 5: 7\n",
            "Usuário 4, insira uma nota de 0 a 5: -1\n",
            "Usuário 4, insira uma nota de 0 a 5: 5\n",
            "Usuário 5, insira uma nota de 0 a 5: 3\n",
            "Usuário 6, insira uma nota de 0 a 5: 7\n",
            "Usuário 6, insira uma nota de 0 a 5: 4\n",
            "Usuário 7, insira uma nota de 0 a 5: 2\n",
            "Usuário 8, insira uma nota de 0 a 5: 1\n",
            "Usuário 9, insira uma nota de 0 a 5: 0\n",
            "Usuário 10, insira uma nota de 0 a 5: 0\n",
            "Usuário 11, insira uma nota de 0 a 5: 5\n",
            "Usuário 12, insira uma nota de 0 a 5: 2\n",
            "Usuário 13, insira uma nota de 0 a 5: 33\n",
            "Usuário 13, insira uma nota de 0 a 5: 3\n",
            "Usuário 14, insira uma nota de 0 a 5: 4\n",
            "Usuário 15, insira uma nota de 0 a 5: 4\n"
          ]
        }
      ]
    },
    {
      "cell_type": "code",
      "source": [
        "# 4) Desenvolva um programa que leia um conjunto indeterminado de temperaturas em Celsius e informe a média delas. A leitura deve ser encerrada ao ser enviado o valor -273°C.\n",
        "celsius = 0\n",
        "TotalTemp = 0\n",
        "cont = 0\n",
        "\n",
        "while True:\n",
        "  celsius = float(input('Informe uma temperatura em Celsius: '))\n",
        "  if celsius == -273:\n",
        "    break\n",
        "  TotalTemp += celsius\n",
        "  cont += 1\n",
        "\n",
        "media_temp = TotalTemp / cont\n",
        "print(media_temp)"
      ],
      "metadata": {
        "colab": {
          "base_uri": "https://localhost:8080/"
        },
        "id": "xbxSTjD5TLnp",
        "outputId": "d0514053-6475-4efc-8232-4d44946ec4cb"
      },
      "execution_count": null,
      "outputs": [
        {
          "output_type": "stream",
          "name": "stdout",
          "text": [
            "Informe uma temperatura em Celsius: 10\n",
            "Informe uma temperatura em Celsius: -10\n",
            "Informe uma temperatura em Celsius: 15\n",
            "Informe uma temperatura em Celsius: -15\n",
            "Informe uma temperatura em Celsius: -273\n",
            "0.0\n"
          ]
        }
      ]
    },
    {
      "cell_type": "code",
      "source": [
        "# 5) Escreva um programa que calcule o fatorial de um número inteiro fornecido pela pessoa usuária.\n",
        "# Lembrando que o fatorial de um número inteiro é a multiplicação desse número por todos os seus antecessores até o número 1.\n",
        "# Por exemplo, o fatorial de 5 é 5 x 4 x 3 x 2 x 1 = 120.\n",
        "\n",
        "fat = int(input('Digite um inteiro: '))\n",
        "\n",
        "if fat < 0:\n",
        "  print('Valor Inválido.')\n",
        "elif fat == 0:\n",
        "  fat = 1\n",
        "else:\n",
        "  for cont in range(fat-1, 0, -1):\n",
        "    fat *= cont\n",
        "\n",
        "print(fat)"
      ],
      "metadata": {
        "colab": {
          "base_uri": "https://localhost:8080/"
        },
        "id": "AN5abkEfVGeo",
        "outputId": "804033e2-7a32-443a-d08d-1d7cfc993027"
      },
      "execution_count": null,
      "outputs": [
        {
          "output_type": "stream",
          "name": "stdout",
          "text": [
            "Digite um inteiro: 5\n",
            "120\n"
          ]
        }
      ]
    },
    {
      "cell_type": "code",
      "source": [
        "# 6) Escreva um programa que gere a tabuada de um número inteiro de 1 a 10, de acordo com a escolha da pessoa usuária. Como exemplo, para o número 2, a tabuada deve ser mostrada no seguinte formato:\n",
        "\n",
        "# Tabuada do 2:\n",
        "# 2 x 1 = 2\n",
        "# 2 x 2 = 4\n",
        "# [...]\n",
        "# 2 x 10 = 20\n",
        "\n",
        "num = int(input('Informe um inteiro de 1 a 10: '))\n",
        "\n",
        "if 1 <= num <= 10:\n",
        "  print(f'Tabuada do {num}:')\n",
        "  for cont in range(1,11):\n",
        "    resultado = num * (cont)\n",
        "    print(f'{num} x {cont} = {resultado}')\n",
        "else:\n",
        "  print('Valor inválido!')"
      ],
      "metadata": {
        "colab": {
          "base_uri": "https://localhost:8080/"
        },
        "id": "t6faW58rBtZ3",
        "outputId": "83f47d9f-7a27-44cf-e604-f3791c4f969e"
      },
      "execution_count": null,
      "outputs": [
        {
          "output_type": "stream",
          "name": "stdout",
          "text": [
            "Informe um inteiro de 1 a 10: 7\n",
            "Tabuada do 7:\n",
            "7 x 1 = 7\n",
            "7 x 2 = 14\n",
            "7 x 3 = 21\n",
            "7 x 4 = 28\n",
            "7 x 5 = 35\n",
            "7 x 6 = 42\n",
            "7 x 7 = 49\n",
            "7 x 8 = 56\n",
            "7 x 9 = 63\n",
            "7 x 10 = 70\n"
          ]
        }
      ]
    },
    {
      "cell_type": "code",
      "source": [
        "# 7) Os números primos possuem várias aplicações dentro da Ciência de Dados em criptografia e segurança, por exemplo. Um número primo é aquele que é divisível apenas por um e por ele mesmo.\n",
        "# Assim, faça um programa que peça um número inteiro e determine se ele é ou não um número primo.\n",
        "\n",
        "num = int(input('Informe um número inteiro: '))\n",
        "qtd_divisores = 0\n",
        "\n",
        "for cont in range(1,num+1):\n",
        "  if num % cont == 0:\n",
        "    qtd_divisores += 1\n",
        "\n",
        "if qtd_divisores != 2:\n",
        "  print(f'{num} NÂO é primo!')\n",
        "else:\n",
        "  print(f'{num} é primo!')"
      ],
      "metadata": {
        "colab": {
          "base_uri": "https://localhost:8080/"
        },
        "id": "Q2LVhiBMC5DV",
        "outputId": "f2bfb6bc-a371-4b29-c275-f20291234b99"
      },
      "execution_count": null,
      "outputs": [
        {
          "output_type": "stream",
          "name": "stdout",
          "text": [
            "Informe um número inteiro: 0\n",
            "0 NÂO é primo!\n"
          ]
        }
      ]
    },
    {
      "cell_type": "code",
      "source": [
        "# 8) Vamos entender a distribuição de idades de pensionistas de uma empresa de previdência.\n",
        "# Escreva um programa que leia as idades de uma quantidade não informada de clientes e mostre a distribuição em intervalos de [0-25], [26-50], [51-75] e [76-100]. Encerre a entrada de dados com um número negativo.\n",
        "\n",
        "cont = 0\n",
        "conj1, conj2, conj3, conj4 = 0, 0, 0, 0\n",
        "\n",
        "while True:\n",
        "  idade = int(input(f'Informe a idade do cliente {cont+1}: '))\n",
        "  if idade < 0:\n",
        "    break;\n",
        "  elif idade < 26:\n",
        "    conj1 += 1\n",
        "  elif idade < 51:\n",
        "    conj2 += 1\n",
        "  elif idade < 76:\n",
        "    conj3 += 1\n",
        "  elif idade < 101:\n",
        "    conj4 += 1\n",
        "  cont += 1\n",
        "\n",
        "print(f'Distribuição de Idades:\\nDe 0 a 25: {conj1}\\nDe 26 a 50: {conj2}\\nDe 51 a 75: {conj3}\\nDe 76 a 100: {conj4}')"
      ],
      "metadata": {
        "colab": {
          "base_uri": "https://localhost:8080/"
        },
        "id": "s9QVDzU6EWBn",
        "outputId": "6b3caf61-3d64-454d-9780-2f784ae46b71"
      },
      "execution_count": null,
      "outputs": [
        {
          "output_type": "stream",
          "name": "stdout",
          "text": [
            "Informe a idade do cliente 1: 7\n",
            "Informe a idade do cliente 2: 34\n",
            "Informe a idade do cliente 3: 68\n",
            "Informe a idade do cliente 4: 50\n",
            "Informe a idade do cliente 5: 77\n",
            "Informe a idade do cliente 6: 3\n",
            "Informe a idade do cliente 7: 24\n",
            "Informe a idade do cliente 8: 56\n",
            "Informe a idade do cliente 9: 99\n",
            "Informe a idade do cliente 10: 31\n",
            "Informe a idade do cliente 11: 14\n",
            "Informe a idade do cliente 12: 68\n",
            "Informe a idade do cliente 13: 49\n",
            "Informe a idade do cliente 14: 100\n",
            "Informe a idade do cliente 15: 1\n",
            "Informe a idade do cliente 16: 8\n",
            "Informe a idade do cliente 17: 89\n",
            "Informe a idade do cliente 18: 53\n",
            "Informe a idade do cliente 19: 27\n",
            "Informe a idade do cliente 20: -1\n",
            "Distribuição de Idades:\n",
            "De 0 a 25: 6\n",
            "De 26 a 50: 5\n",
            "De 51 a 75: 4\n",
            "De 76 a 100: 4\n"
          ]
        }
      ]
    },
    {
      "cell_type": "code",
      "source": [
        "# 9) Em uma eleição para gerência em uma empresa com 20 pessoas colaboradoras, existem quatro candidatos(as). Escreva um programa que calcule o(a) vencedor(a) da eleição. A votação ocorreu da seguinte maneira:\n",
        "\n",
        "# Cada colaborador(a) votou em uma das quatro pessoas candidatas (que representamos pelos números 1, 2, 3 e 4).\n",
        "# Também foram contabilizados os votos nulos (representados pelo número 5) e os votos em branco (representados pelo número 6).\n",
        "# Ao final da votação, o programa deve exibir o número total de votos para cada candidato(a), os nulos e os votos em branco.\n",
        "# Além disso, deve calcular e exibir a porcentagem de votos nulos em relação ao total de votos e a porcentagem de votos em branco em relação ao total de votos.\n",
        "\n",
        "qtd1,qtd2,qtd3,qtd4,qtdNulo,qtdBranco = 0,0,0,0,0,0\n",
        "for colaboradores in range(0,20):\n",
        "  valido = False\n",
        "  print('Tabela de Votação:\\n1 - Candidato 1\\n2 - Candidato 2\\n3 - Candidato 3\\n4 - Candidato 4\\n5 - Nulo\\n6 - Branco')\n",
        "  while not valido:\n",
        "    voto = int(input(f'{colaboradores+1}) Escolha uma opção de voto: '))\n",
        "    valido = True\n",
        "    if voto == 1:\n",
        "      qtd1 += 1\n",
        "    elif voto == 2:\n",
        "      qtd2 += 1\n",
        "    elif voto == 3:\n",
        "      qtd3 += 1\n",
        "    elif voto == 4:\n",
        "      qtd4 += 1\n",
        "    elif voto == 5:\n",
        "      qtdNulo += 1\n",
        "    elif voto == 6:\n",
        "      qtdBranco += 1\n",
        "    else:\n",
        "      print('Voto inválido\\n')\n",
        "      valido = False\n",
        "print(f'Resultados:\\nCandidato 1 - {qtd1} votos\\nCandidato 2 - {qtd2} votos\\nCandidato 3 - {qtd3} votos\\nCandidato 4 - {qtd4} votos\\nNulo - {qtdNulo} votos\\nBranco - {qtdBranco} votos\\n')\n",
        "totalVotos = qtd1 + qtd2 + qtd3 + qtd4 + qtdNulo + qtdBranco\n",
        "porcentagemNulo = 100 * qtdNulo / totalVotos\n",
        "porcentagemBranco = 100 * qtdBranco / totalVotos\n",
        "print(f'Porcentagem de votos brancos: {porcentagemBranco}%\\nPorcentagem de votos nulos: {porcentagemNulo}%\\n')"
      ],
      "metadata": {
        "id": "z0-jD69kGpa4",
        "colab": {
          "base_uri": "https://localhost:8080/"
        },
        "outputId": "88127017-a4e8-4305-bb85-9983706c7905"
      },
      "execution_count": null,
      "outputs": [
        {
          "output_type": "stream",
          "name": "stdout",
          "text": [
            "Tabela de Votação:\n",
            "1 - Candidato 1\n",
            "2 - Candidato 2\n",
            "3 - Candidato 3\n",
            "4 - Candidato 4\n",
            "5 - Nulo\n",
            "6 - Branco\n",
            "1) Escolha uma opção de voto: 1\n",
            "Tabela de Votação:\n",
            "1 - Candidato 1\n",
            "2 - Candidato 2\n",
            "3 - Candidato 3\n",
            "4 - Candidato 4\n",
            "5 - Nulo\n",
            "6 - Branco\n",
            "2) Escolha uma opção de voto: 2\n",
            "Tabela de Votação:\n",
            "1 - Candidato 1\n",
            "2 - Candidato 2\n",
            "3 - Candidato 3\n",
            "4 - Candidato 4\n",
            "5 - Nulo\n",
            "6 - Branco\n",
            "3) Escolha uma opção de voto: 4\n",
            "Tabela de Votação:\n",
            "1 - Candidato 1\n",
            "2 - Candidato 2\n",
            "3 - Candidato 3\n",
            "4 - Candidato 4\n",
            "5 - Nulo\n",
            "6 - Branco\n",
            "4) Escolha uma opção de voto: 5\n",
            "Tabela de Votação:\n",
            "1 - Candidato 1\n",
            "2 - Candidato 2\n",
            "3 - Candidato 3\n",
            "4 - Candidato 4\n",
            "5 - Nulo\n",
            "6 - Branco\n",
            "5) Escolha uma opção de voto: 5\n",
            "Tabela de Votação:\n",
            "1 - Candidato 1\n",
            "2 - Candidato 2\n",
            "3 - Candidato 3\n",
            "4 - Candidato 4\n",
            "5 - Nulo\n",
            "6 - Branco\n",
            "6) Escolha uma opção de voto: 6\n",
            "Tabela de Votação:\n",
            "1 - Candidato 1\n",
            "2 - Candidato 2\n",
            "3 - Candidato 3\n",
            "4 - Candidato 4\n",
            "5 - Nulo\n",
            "6 - Branco\n",
            "7) Escolha uma opção de voto: 6\n",
            "Tabela de Votação:\n",
            "1 - Candidato 1\n",
            "2 - Candidato 2\n",
            "3 - Candidato 3\n",
            "4 - Candidato 4\n",
            "5 - Nulo\n",
            "6 - Branco\n",
            "8) Escolha uma opção de voto: 6\n",
            "Tabela de Votação:\n",
            "1 - Candidato 1\n",
            "2 - Candidato 2\n",
            "3 - Candidato 3\n",
            "4 - Candidato 4\n",
            "5 - Nulo\n",
            "6 - Branco\n",
            "9) Escolha uma opção de voto: 2\n",
            "Tabela de Votação:\n",
            "1 - Candidato 1\n",
            "2 - Candidato 2\n",
            "3 - Candidato 3\n",
            "4 - Candidato 4\n",
            "5 - Nulo\n",
            "6 - Branco\n",
            "10) Escolha uma opção de voto: 1\n",
            "Tabela de Votação:\n",
            "1 - Candidato 1\n",
            "2 - Candidato 2\n",
            "3 - Candidato 3\n",
            "4 - Candidato 4\n",
            "5 - Nulo\n",
            "6 - Branco\n",
            "11) Escolha uma opção de voto: 5\n",
            "Tabela de Votação:\n",
            "1 - Candidato 1\n",
            "2 - Candidato 2\n",
            "3 - Candidato 3\n",
            "4 - Candidato 4\n",
            "5 - Nulo\n",
            "6 - Branco\n",
            "12) Escolha uma opção de voto: 6\n",
            "Tabela de Votação:\n",
            "1 - Candidato 1\n",
            "2 - Candidato 2\n",
            "3 - Candidato 3\n",
            "4 - Candidato 4\n",
            "5 - Nulo\n",
            "6 - Branco\n",
            "13) Escolha uma opção de voto: 5\n",
            "Tabela de Votação:\n",
            "1 - Candidato 1\n",
            "2 - Candidato 2\n",
            "3 - Candidato 3\n",
            "4 - Candidato 4\n",
            "5 - Nulo\n",
            "6 - Branco\n",
            "14) Escolha uma opção de voto: 0\n",
            "Voto inválido\n",
            "\n",
            "14) Escolha uma opção de voto: 8\n",
            "Voto inválido\n",
            "\n",
            "14) Escolha uma opção de voto: 2\n",
            "Tabela de Votação:\n",
            "1 - Candidato 1\n",
            "2 - Candidato 2\n",
            "3 - Candidato 3\n",
            "4 - Candidato 4\n",
            "5 - Nulo\n",
            "6 - Branco\n",
            "15) Escolha uma opção de voto: 3\n",
            "Tabela de Votação:\n",
            "1 - Candidato 1\n",
            "2 - Candidato 2\n",
            "3 - Candidato 3\n",
            "4 - Candidato 4\n",
            "5 - Nulo\n",
            "6 - Branco\n",
            "16) Escolha uma opção de voto: 4\n",
            "Tabela de Votação:\n",
            "1 - Candidato 1\n",
            "2 - Candidato 2\n",
            "3 - Candidato 3\n",
            "4 - Candidato 4\n",
            "5 - Nulo\n",
            "6 - Branco\n",
            "17) Escolha uma opção de voto: 1\n",
            "Tabela de Votação:\n",
            "1 - Candidato 1\n",
            "2 - Candidato 2\n",
            "3 - Candidato 3\n",
            "4 - Candidato 4\n",
            "5 - Nulo\n",
            "6 - Branco\n",
            "18) Escolha uma opção de voto: 5\n",
            "Tabela de Votação:\n",
            "1 - Candidato 1\n",
            "2 - Candidato 2\n",
            "3 - Candidato 3\n",
            "4 - Candidato 4\n",
            "5 - Nulo\n",
            "6 - Branco\n",
            "19) Escolha uma opção de voto: 5\n",
            "Tabela de Votação:\n",
            "1 - Candidato 1\n",
            "2 - Candidato 2\n",
            "3 - Candidato 3\n",
            "4 - Candidato 4\n",
            "5 - Nulo\n",
            "6 - Branco\n",
            "20) Escolha uma opção de voto: 5\n",
            "Resultados:\n",
            "Candidato 1 - 3 votos\n",
            "Candidato 2 - 3 votos\n",
            "Candidato 3 - 1 votos\n",
            "Candidato 4 - 2 votos\n",
            "Nulo - 7 votos\n",
            "Branco - 4 votos\n",
            "\n",
            "Porcentagem de votos brancos: 20.0%\n",
            "Porcentagem de votos nulos: 35.0%\n",
            "\n"
          ]
        }
      ]
    },
    {
      "cell_type": "markdown",
      "source": [
        "# Listas e Dicionários"
      ],
      "metadata": {
        "id": "6X141uxfwme2"
      }
    },
    {
      "cell_type": "code",
      "source": [
        "# 1) Faça um programa que tenha a seguinte lista contendo os valores de gastos de uma empresa de papel [2172.54, 3701.35, 3518.09, 3456.61, 3249.38, 2840.82, 3891.45, 3075.26, 2317.64, 3219.08].\n",
        "# Com esses valores, faça um programa que calcule a média de gastos. Dica: use as funções built-in sum() e len().\n",
        "\n",
        "lista_gastos = [2172.54, 3701.35, 3518.09, 3456.61, 3249.38, 2840.82, 3891.45, 3075.26, 2317.64, 3219.08]\n",
        "media = sum(lista_gastos) / len(lista_gastos)\n",
        "print(media)"
      ],
      "metadata": {
        "colab": {
          "base_uri": "https://localhost:8080/"
        },
        "id": "jR1Y6kpxwi2I",
        "outputId": "87745529-9419-495e-a748-d6669c7d8388"
      },
      "execution_count": null,
      "outputs": [
        {
          "output_type": "stream",
          "name": "stdout",
          "text": [
            "3144.222\n"
          ]
        }
      ]
    },
    {
      "cell_type": "code",
      "source": [
        "# 2) Com os mesmos dados da questão anterior, defina quantas compras foram realizadas acima de 3000 reais e calcule a porcentagem quanto ao total de compras.\n",
        "grandes_gastos = []\n",
        "for valor in lista_gastos:\n",
        "  if valor > 3000:\n",
        "    grandes_gastos.append(valor)\n",
        "print(f'Total de gastos acima de 3000 reais: {len(grandes_gastos)}')\n",
        "print(f'Porcentagem: {100 * len(grandes_gastos) / len(lista_gastos)}%')"
      ],
      "metadata": {
        "colab": {
          "base_uri": "https://localhost:8080/"
        },
        "id": "oKGsWO28xp35",
        "outputId": "cd7fe83a-a731-4533-82d2-899f085fe773"
      },
      "execution_count": null,
      "outputs": [
        {
          "output_type": "stream",
          "name": "stdout",
          "text": [
            "Total de gastos acima de 3000 reais: 7\n",
            "Porcentagem: 70.0%\n"
          ]
        }
      ]
    },
    {
      "cell_type": "code",
      "source": [
        "# 3) Faça um código que colete em uma lista 5 números inteiros quaisquer e imprima a lista. Exemplo: [1,4,7,2,4].\n",
        "lista_int = []\n",
        "for i in range(0,5):\n",
        "  valor = int(input('Digite um inteiro qualquer: '))\n",
        "  lista_int.append(valor)\n",
        "print(lista_int)"
      ],
      "metadata": {
        "colab": {
          "base_uri": "https://localhost:8080/"
        },
        "id": "r7OGWLlfzAQg",
        "outputId": "4a646630-91bb-4a9d-e5ad-366b04486168"
      },
      "execution_count": null,
      "outputs": [
        {
          "output_type": "stream",
          "name": "stdout",
          "text": [
            "Digite um inteiro qualquer: 2\n",
            "Digite um inteiro qualquer: 5\n",
            "Digite um inteiro qualquer: 0\n",
            "Digite um inteiro qualquer: -1000\n",
            "Digite um inteiro qualquer: 32443534\n",
            "[2, 5, 0, -1000, 32443534]\n"
          ]
        }
      ]
    },
    {
      "cell_type": "code",
      "source": [
        "# 4) Colete novamente 5 inteiros e imprima a lista em ordem inversa à enviada.\n",
        "lista_int = []\n",
        "for i in range(0,5):\n",
        "  valor = int(input('Digite um inteiro qualquer: '))\n",
        "  lista_int.append(valor)\n",
        "print(lista_int[::-1])"
      ],
      "metadata": {
        "colab": {
          "base_uri": "https://localhost:8080/"
        },
        "id": "_Uu079VhzqBw",
        "outputId": "e3b88a1e-f1ce-4b93-a212-4a25b5cfc780"
      },
      "execution_count": null,
      "outputs": [
        {
          "output_type": "stream",
          "name": "stdout",
          "text": [
            "Digite um inteiro qualquer: 1\n",
            "Digite um inteiro qualquer: 2\n",
            "Digite um inteiro qualquer: 3\n",
            "Digite um inteiro qualquer: 4\n",
            "Digite um inteiro qualquer: 5\n",
            "[5, 4, 3, 2, 1]\n"
          ]
        }
      ]
    },
    {
      "cell_type": "code",
      "source": [
        "# 5) Faça um programa que, ao inserir um número qualquer, cria uma lista contendo todos os números primos entre 1 e o número digitado.\n",
        "primos = []\n",
        "max = int(input('Insira um número qualquer: '))\n",
        "candidato = 2\n",
        "while candidato < max:\n",
        "  divisores = 0\n",
        "  for valor in range(2,candidato):\n",
        "    if candidato % valor == 0:\n",
        "      divisores += 1\n",
        "  if divisores == 0:\n",
        "    primos.append(candidato)\n",
        "  candidato += 1\n",
        "print(primos)"
      ],
      "metadata": {
        "colab": {
          "base_uri": "https://localhost:8080/"
        },
        "id": "FqmftfOL0s5n",
        "outputId": "7e75e39e-f386-4bd5-c4ce-5c01a8f968b2"
      },
      "execution_count": null,
      "outputs": [
        {
          "output_type": "stream",
          "name": "stdout",
          "text": [
            "Insira um número qualquer: -2\n",
            "[]\n"
          ]
        }
      ]
    },
    {
      "cell_type": "code",
      "source": [
        "# 6) Escreva um programa que peça uma data informando o dia, mês e ano e determine se ela é válida para uma análise.\n",
        "dia = int(input('Informe um dia: '))\n",
        "mes = int(input('Informe um mês: '))\n",
        "ano = int(input('Informe um ano: '))\n",
        "DataValida = True\n",
        "\n",
        "if dia <= 0 or mes <= 0 or ano <= 0:\n",
        "  DataValida = False\n",
        "elif mes > 12:\n",
        "  DataValida = False\n",
        "elif mes == 2:\n",
        "  if ano % 4 == 0 and (ano % 100 != 0 or ano % 400 == 0):\n",
        "    if dia > 29:\n",
        "      DataValida = False\n",
        "  else:\n",
        "    if dia > 28:\n",
        "      DataValida = False\n",
        "elif mes in [4,6,9,11]:\n",
        "  if dia > 30:\n",
        "    DataValida = False\n",
        "else:\n",
        "  if dia > 31:\n",
        "    DataValida = False\n",
        "\n",
        "if DataValida:\n",
        "  print(f'A data {dia}/{mes}/{ano} é valida!')\n",
        "else:\n",
        "  print(f'A data {dia}/{mes}/{ano} NÃO é valida!')"
      ],
      "metadata": {
        "id": "M1aaJsVU4jmB",
        "colab": {
          "base_uri": "https://localhost:8080/"
        },
        "outputId": "156b56de-943e-4e49-d417-17ea515e387a"
      },
      "execution_count": null,
      "outputs": [
        {
          "output_type": "stream",
          "name": "stdout",
          "text": [
            "Informe um dia: 31\n",
            "Informe um mês: 11\n",
            "Informe um ano: 2178\n",
            "A data 31/11/2178 NÃO é valida!\n"
          ]
        }
      ]
    },
    {
      "cell_type": "code",
      "source": [
        "lista = [2,4,6,7,8]\n",
        "print(lista[3::-2])"
      ],
      "metadata": {
        "colab": {
          "base_uri": "https://localhost:8080/"
        },
        "id": "XzNgHI1f6FLg",
        "outputId": "969bdac1-d41a-48a5-f29e-74b35109e1c1"
      },
      "execution_count": null,
      "outputs": [
        {
          "output_type": "stream",
          "name": "stdout",
          "text": [
            "[7, 4]\n"
          ]
        }
      ]
    },
    {
      "cell_type": "code",
      "source": [
        "# 7) Para um estudo envolvendo o nível de multiplicação de bactérias em uma colônia, foi coletado o número de bactérias por dia (em milhares) e pode ser observado a seguir:\n",
        "#  [1.2, 2.1, 3.3, 5.0, 7.8, 11.3, 16.6, 25.1, 37.8, 56.9]. Tendo esses valores, faça um código que gere uma lista contendo o percentual de crescimento de bactérias por dia,\n",
        "#  comparando o número de bactérias em cada dia com o número de bactérias do dia anterior. Dica: para calcular o percentual de crescimento usamos a seguinte equação:\n",
        "#  100 * (amostra_atual - amostra_passada) / (amostra_passada).\n",
        "bacterias_por_dia = [1.2, 2.1, 3.3, 5.0, 7.8, 11.3, 16.6, 25.1, 37.8, 56.9]\n",
        "crescimento_diario = []\n",
        "amostra_passada = bacterias_por_dia[0]\n",
        "\n",
        "for amostra_atual in bacterias_por_dia[1:]:\n",
        "  percentual_crescimento = 100 * (amostra_atual - amostra_passada) / (amostra_passada)\n",
        "  percentual_crescimento = round(percentual_crescimento, 2)\n",
        "  crescimento_diario.append(percentual_crescimento)\n",
        "  amostra_passada = amostra_atual\n",
        "\n",
        "print(crescimento_diario)"
      ],
      "metadata": {
        "colab": {
          "base_uri": "https://localhost:8080/"
        },
        "id": "OoxhTxdlK1hu",
        "outputId": "64efad71-8f3f-40be-fd2d-261cd2a24566"
      },
      "execution_count": null,
      "outputs": [
        {
          "output_type": "stream",
          "name": "stdout",
          "text": [
            "[75.0, 57.14, 51.52, 56.0, 44.87, 46.9, 51.2, 50.6, 50.53]\n"
          ]
        }
      ]
    },
    {
      "cell_type": "code",
      "source": [
        "# 8) Para uma seleção de produtos alimentícios, precisamos separar o conjunto de IDs dados por números inteiros sabendo que os produtos com ID par são doces e os com ID ímpar são amargos.\n",
        "# Monte um código que colete 10 IDs. Depois, calcule e mostre a quantidade de produtos doces e amargos.\n",
        "amargos = []\n",
        "doces = []\n",
        "\n",
        "for i in range(0,10):\n",
        "  id = int(input('Informe o ID do produto: '))\n",
        "  if id % 2 == 0:\n",
        "    doces.append(id)\n",
        "  else:\n",
        "    amargos.append(id)\n",
        "print(f'Quantidade de produtos doces: {len(doces)}\\nQuantidade de produtos amargos: {len(amargos)}')"
      ],
      "metadata": {
        "colab": {
          "base_uri": "https://localhost:8080/"
        },
        "id": "1lCO-c1MQOSy",
        "outputId": "97b2fda5-8726-4820-f7d0-50867ddbecfd"
      },
      "execution_count": null,
      "outputs": [
        {
          "output_type": "stream",
          "name": "stdout",
          "text": [
            "Informe o ID do produto: 3\n",
            "Informe o ID do produto: 4\n",
            "Informe o ID do produto: 6\n",
            "Informe o ID do produto: 6\n",
            "Informe o ID do produto: 7\n",
            "Informe o ID do produto: 8\n",
            "Informe o ID do produto: 8\n",
            "Informe o ID do produto: 9\n",
            "Informe o ID do produto: 4\n",
            "Informe o ID do produto: 1\n",
            "Quantidade de produtos doces: 6\n",
            "Quantidade de produtos amargos: 4\n"
          ]
        }
      ]
    },
    {
      "cell_type": "code",
      "source": [
        "# 9) Desenvolva um programa que informa a nota de um(a) aluno(a) de acordo com suas respostas. Ele deve pedir a resposta desse(a) aluno(a) para cada questão e é preciso verificar se a resposta foi igual ao gabarito.\n",
        "# Cada questão vale um ponto e existem as alternativas A, B, C ou D.\n",
        "# Gabarito da prova:\n",
        "# 01 - D\n",
        "# 02 - A\n",
        "# 03 - C\n",
        "# 04 - B\n",
        "# 05 - A\n",
        "# 06 - D\n",
        "# 07 - C\n",
        "# 08 - C\n",
        "# 09 - A\n",
        "# 10 - B\n",
        "nota = 0\n",
        "Num_Questao = 1\n",
        "gabarito = 'DACBADCCAB'\n",
        "for letra in gabarito:\n",
        "  Valida = False\n",
        "  while not Valida:\n",
        "    alternativa = input(f'Digite a resposta da questão {Num_Questao} (A, B, C, D): ').upper()\n",
        "    if 'A' <= alternativa <= 'D' and len(alternativa) == 1:\n",
        "      Valida = True\n",
        "      if alternativa == letra:\n",
        "        nota += 1\n",
        "    else:\n",
        "      print('Alternativa inválida.')\n",
        "  Num_Questao += 1\n",
        "print(nota)"
      ],
      "metadata": {
        "colab": {
          "base_uri": "https://localhost:8080/"
        },
        "id": "rvOY87otRiD2",
        "outputId": "0877a645-64d1-44e1-dac2-623ded705bcb"
      },
      "execution_count": null,
      "outputs": [
        {
          "output_type": "stream",
          "name": "stdout",
          "text": [
            "Digite a resposta da questão 1 (A, B, C, D): a\n",
            "Digite a resposta da questão 2 (A, B, C, D): a\n",
            "Digite a resposta da questão 3 (A, B, C, D): c\n",
            "Digite a resposta da questão 4 (A, B, C, D): b\n",
            "Digite a resposta da questão 5 (A, B, C, D): a\n",
            "Digite a resposta da questão 6 (A, B, C, D): d\n",
            "Digite a resposta da questão 7 (A, B, C, D): b\n",
            "Digite a resposta da questão 8 (A, B, C, D): c\n",
            "Digite a resposta da questão 9 (A, B, C, D): a\n",
            "Digite a resposta da questão 10 (A, B, C, D): b\n",
            "8\n"
          ]
        }
      ]
    },
    {
      "cell_type": "code",
      "source": [
        "# 10) Um instituto de meteorologia deseja fazer um estudo de temperatura média de cada mês do ano. Para isso, você precisa fazer um código que colete e armazene essas temperaturas médias em uma lista.\n",
        "# Depois, calcule a média anual das temperaturas e mostre todas as temperaturas acima da média anual e em que mês elas ocorreram, mostrando os meses por extenso (Janeiro, Fevereiro, etc.).\n",
        "medias_mensais = {\"Janeiro\": 0, \"Fevereiro\": 0, \"Março\": 0, \"Abril\": 0, \"Maio\": 0, \"Junho\": 0, \"Julho\": 0, \"Agosto\": 0, \"Setembro\": 0, \"Outubro\": 0, \"Novembro\": 0, \"Dezembro\": 0}\n",
        "for mes in medias_mensais.keys():\n",
        "  medias_mensais[mes] = float(input(f'Insira a temperatura média do mês de {mes}: ' ))\n",
        "\n",
        "temp_media_anual = sum(medias_mensais.values()) / len(medias_mensais)\n",
        "\n",
        "acima_da_media = []\n",
        "for mes, media in medias_mensais.items():\n",
        "  if media > temp_media_anual:\n",
        "    acima_da_media.append(mes)\n",
        "print(f'Media Anual: {temp_media_anual}\\nMeses acima da média anual: {acima_da_media}')"
      ],
      "metadata": {
        "colab": {
          "base_uri": "https://localhost:8080/"
        },
        "id": "eqPcIBeoVhRx",
        "outputId": "48316b30-630f-4a90-9a9f-d09c944c12ec"
      },
      "execution_count": null,
      "outputs": [
        {
          "output_type": "stream",
          "name": "stdout",
          "text": [
            "Insira a temperatura média do mês de Janeiro: 2\n",
            "Insira a temperatura média do mês de Fevereiro: 30\n",
            "Insira a temperatura média do mês de Março: 200\n",
            "Insira a temperatura média do mês de Abril: 24\n",
            "Insira a temperatura média do mês de Maio: 5\n",
            "Insira a temperatura média do mês de Junho: 78\n",
            "Insira a temperatura média do mês de Julho: 4\n",
            "Insira a temperatura média do mês de Agosto: 17\n",
            "Insira a temperatura média do mês de Setembro: 69\n",
            "Insira a temperatura média do mês de Outubro: 3\n",
            "Insira a temperatura média do mês de Novembro: 1\n",
            "Insira a temperatura média do mês de Dezembro: 39\n",
            "Media Anual: 39.333333333333336\n",
            "Meses acima da média anual: ['Março', 'Junho', 'Setembro']\n"
          ]
        }
      ]
    },
    {
      "cell_type": "code",
      "source": [
        "# 11) Uma empresa de e-commerce está interessada em analisar as vendas dos seus produtos. Os dados das vendas foram armazenados em um dicionário:\n",
        "# {'Produto A': 300, 'Produto B': 80, 'Produto C': 60,\n",
        "#  'Produto D': 200, 'Produto E': 250, 'Produto F': 30}\n",
        "# Escreva um código que calcule o total de vendas e o produto mais vendido.\n",
        "\n",
        "Vendas = {'Produto A': 300, 'Produto B': 80, 'Produto C': 60, 'Produto D': 200, 'Produto E': 250, 'Produto F': 30}\n",
        "Total_vendas = sum(Vendas.values())\n",
        "\n",
        "for produto, num_vendas in Vendas.items():\n",
        "  if num_vendas == max(Vendas.values()):\n",
        "    Mais_Vendido = produto\n",
        "    break;\n",
        "\n",
        "print(Total_vendas, Mais_Vendido)"
      ],
      "metadata": {
        "colab": {
          "base_uri": "https://localhost:8080/"
        },
        "id": "PtnaVz3OXkM-",
        "outputId": "43571b18-73f7-41ad-c4a3-ee4215317d99"
      },
      "execution_count": null,
      "outputs": [
        {
          "output_type": "stream",
          "name": "stdout",
          "text": [
            "920 Produto A\n"
          ]
        }
      ]
    },
    {
      "cell_type": "code",
      "source": [
        "# 12) Uma pesquisa de mercado foi feita para decidir qual design de marca infantil mais agrada as crianças. A pesquisa foi feita e o votos computados podem ser observados abaixo:\n",
        "Menu = '''\n",
        "Tabela de votos da marca\n",
        "Design 1 - 1334 votos\n",
        "Design 2 - 982 votos\n",
        "Design 3 - 1751 votos\n",
        "Design 4 - 210 votos\n",
        "Design 5 - 1811 votos\n",
        "'''\n",
        "# Adapte os dados fornecidos para uma estrutura de dicionário. A partir dele, informe o design vencedor e a porcentagem de votos recebidos.\n",
        "marcas_infantis = {\n",
        "'Design 1': 1334,\n",
        "'Design 2': 982,\n",
        "'Design 3': 1751,\n",
        "'Design 4': 210,\n",
        "'Design 5': 1811\n",
        "}\n",
        "\n",
        "for design, votos in marcas_infantis.items():\n",
        "  if votos == max(marcas_infantis.values()):\n",
        "    Vencedor = design\n",
        "    break;\n",
        "Votos_percent = 100 * votos / sum(marcas_infantis.values())\n",
        "print(Menu)\n",
        "print(f'''Vencedor = {Vencedor}\n",
        "Votos = {Votos_percent:.2f}%\n",
        "''')"
      ],
      "metadata": {
        "colab": {
          "base_uri": "https://localhost:8080/"
        },
        "id": "YVi-yEfBdXhc",
        "outputId": "8af6cd91-9ccb-4b48-f394-6ed602d94b4b"
      },
      "execution_count": null,
      "outputs": [
        {
          "output_type": "stream",
          "name": "stdout",
          "text": [
            "\n",
            "Tabela de votos da marca\n",
            "Design 1 - 1334 votos\n",
            "Design 2 - 982 votos\n",
            "Design 3 - 1751 votos\n",
            "Design 4 - 210 votos\n",
            "Design 5 - 1811 votos\n",
            "\n",
            "Vencedor = Design 5\n",
            "Votos = 29.75%\n",
            "\n"
          ]
        }
      ]
    },
    {
      "cell_type": "code",
      "source": [
        "# 13) As pessoas colaboradoras de um setor da empresa que você trabalha vão receber um abono correspondente a 10% do salário devido ao ótimo desempenho do time.\n",
        "# O setor financeiro solicitou sua ajuda para a verificação das consequências financeiras que esse abono irá gerar nos recursos.\n",
        "# Assim, foi encaminhada para você uma lista com os salários que receberão o abono: [1172, 1644, 2617, 5130, 5532, 6341, 6650, 7238, 7685, 7782, 7903].\n",
        "# O abono de cada colaborador(a) não pode ser inferior a 200. Em código, transforme cada um dos salários em chaves de um dicionário e o abono de cada salário no elemento.\n",
        "# Depois, informe o total de gastos com o abono, quantos(as) colaboradores(as) receberam o abono mínimo e qual o maior valor de abono fornecido.\n",
        "# salarios = {1172:0, 1644:0, 2617:0, 5130:0, 5532:0, 6341:0, 6650:0, 7238:0, 7685:0, 7782:0, 7903:0}\n",
        "salarios = [1172, 1644, 2617, 5130, 5532, 6341, 6650, 7238, 7685, 7782, 7903]\n",
        "salario_dict = {}\n",
        "abonos = []\n",
        "Abonos_min = 0\n",
        "for salario in salarios:\n",
        "  abono = salario / 10\n",
        "  if abono <= 200:\n",
        "    abono = 200\n",
        "    Abonos_min += 1\n",
        "  salario_dict[salario] = abono\n",
        "\n",
        "Total_abono = sum(salario_dict.values())\n",
        "Max_abono = max(salario_dict.values())\n",
        "print(Total_abono, Abonos_min, Max_abono)"
      ],
      "metadata": {
        "id": "f5HobsAHhY3-",
        "colab": {
          "base_uri": "https://localhost:8080/"
        },
        "outputId": "ee064146-67d2-44ae-c2d3-a3b3bf11b36d"
      },
      "execution_count": 11,
      "outputs": [
        {
          "output_type": "stream",
          "name": "stdout",
          "text": [
            "6087.8 2 790.3\n"
          ]
        }
      ]
    },
    {
      "cell_type": "code",
      "source": [
        "# 14) Uma equipe de cientistas de dados está estudando a diversidade biológica em uma floresta.\n",
        "# A equipe fez a coleta de informações sobre o número de espécies de plantas e animais em cada área dessa floresta e armazenou essas informações em um dicionário.\n",
        "# Nele, a chave descreve a área dos dados e os valores nas listas correspondem às espécies de plantas e animais nas áreas, respectivamente.\n",
        "# {'Área Norte': [2819, 7236],\n",
        "#  'Área Leste': [1440, 9492],\n",
        "#  'Área Sul': [5969, 7496],\n",
        "#  'Área Oeste': [14446, 49688],\n",
        "#  'Área Centro': [22558, 45148]}\n",
        "# Escreva um código para calcular a média de espécies por área e identificar a área com a maior diversidade biológica. Dica: use as funções built-in sum() e len().\n",
        "ecossistema = {'Área Norte': [2819, 7236],\n",
        "              'Área Leste': [1440, 9492],\n",
        "              'Área Sul': [5969, 7496],\n",
        "              'Área Oeste': [14446, 49688],\n",
        "              'Área Centro': [22558, 45148]}\n",
        "Media_especies = {}\n",
        "for area, especies in ecossistema.items():\n",
        "  Media_especies[area] = media = sum(especies) / len(especies)\n",
        "\n",
        "for area, media in Media_especies.items():\n",
        "  if media == max(Media_especies.values()):\n",
        "    Mais_Diversa = area\n",
        "    break;\n",
        "print(f'Média por área: {Media_especies}\\nÁrea mais diversa: {Mais_Diversa}')"
      ],
      "metadata": {
        "colab": {
          "base_uri": "https://localhost:8080/"
        },
        "id": "T91qrRfYvEli",
        "outputId": "b5832bf6-6108-449a-8f48-8dfb18d8e7a8"
      },
      "execution_count": 22,
      "outputs": [
        {
          "output_type": "stream",
          "name": "stdout",
          "text": [
            "Média por área: {'Área Norte': 5027.5, 'Área Leste': 5466.0, 'Área Sul': 6732.5, 'Área Oeste': 32067.0, 'Área Centro': 33853.0}\n",
            "Área mais diversa: Área Centro\n"
          ]
        }
      ]
    },
    {
      "cell_type": "code",
      "source": [
        "# 15) O setor de RH da sua empresa te pediu uma ajuda para analisar as idades de colaboradores(as) de 4 setores da empresa. Para isso, foram fornecidos os seguintes dados:\n",
        "\n",
        "# {'Setor A': [22, 26, 30, 30, 35, 38, 40, 56, 57, 65],\n",
        "#  'Setor B': [22, 24, 26, 33, 41, 49, 50, 54, 60, 64],\n",
        "#  'Setor C': [23, 26, 26, 29, 34, 35, 36, 41, 52, 56],\n",
        "#  'Setor D': [19, 20, 25, 27, 34, 39, 42, 44, 50, 65]}\n",
        "\n",
        "# Sabendo que cada setor tem 10 colaboradores(as), construa um código que calcule a média de idade de cada setor, a idade média geral entre todos os setores e quantas pessoas estão acima da idade média geral.\n",
        "\n",
        "Idades_por_setor = {\n",
        "  'Setor A': [22, 26, 30, 30, 35, 38, 40, 56, 57, 65],\n",
        " 'Setor B': [22, 24, 26, 33, 41, 49, 50, 54, 60, 64],\n",
        " 'Setor C': [23, 26, 26, 29, 34, 35, 36, 41, 52, 56],\n",
        " 'Setor D': [19, 20, 25, 27, 34, 39, 42, 44, 50, 65]\n",
        "  }\n",
        "Media_por_setor = {}\n",
        "Idades_gerais = []\n",
        "for setor, idades in Idades_por_setor.items():\n",
        "  Media_por_setor[setor] = sum(idades) / len(idades)\n",
        "  Idades_gerais.extend(idades)\n",
        "\n",
        "Media_idade_geral = sum(Idades_gerais) / len(Idades_gerais)\n",
        "cont_acima_media = 0\n",
        "for pessoa in Idades_gerais:\n",
        "  if pessoa > Media_idade_geral:\n",
        "    cont_acima_media += 1\n",
        "\n",
        "print(f'Médias por setor: {Media_por_setor}\\nMédia geral: {Media_idade_geral}\\nQtd de pessoas acima da média geral: {cont_acima_media}')"
      ],
      "metadata": {
        "colab": {
          "base_uri": "https://localhost:8080/"
        },
        "id": "xj9wcHSA6ZNJ",
        "outputId": "078636b7-1387-4a51-d8cc-835cdec1c0e5"
      },
      "execution_count": 27,
      "outputs": [
        {
          "output_type": "stream",
          "name": "stdout",
          "text": [
            "Médias por setor: {'Setor A': 39.9, 'Setor B': 42.3, 'Setor C': 35.8, 'Setor D': 36.5}\n",
            "Média geral: 38.625\n",
            "Qtd de pessoas acima da média geral: 18\n"
          ]
        }
      ]
    }
  ]
}